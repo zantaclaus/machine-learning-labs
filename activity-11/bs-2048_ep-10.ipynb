{
 "cells": [
  {
   "cell_type": "code",
   "execution_count": 15,
   "metadata": {},
   "outputs": [],
   "source": [
    "import numpy as np\n",
    "import pandas as pd\n",
    "import matplotlib.pyplot as plt\n",
    "import tensorflow as tf\n",
    "from tensorflow import keras\n",
    "from tensorflow.keras.models import Model\n",
    "from tensorflow.keras import Input\n",
    "from tensorflow.keras.layers import Embedding\n",
    "from tensorflow.keras.layers import Flatten, Dense\n",
    "from tensorflow.keras.optimizers import Adam\n",
    "from sklearn.model_selection import train_test_split"
   ]
  },
  {
   "cell_type": "markdown",
   "metadata": {},
   "source": [
    "## 11.1 Data Preparation"
   ]
  },
  {
   "cell_type": "code",
   "execution_count": 16,
   "metadata": {},
   "outputs": [],
   "source": [
    "df_R = pd.read_csv('ratings.csv')\n",
    "df_M = pd.read_csv('movies.csv')"
   ]
  },
  {
   "cell_type": "markdown",
   "metadata": {},
   "source": [
    "***Read data from 2 files***"
   ]
  },
  {
   "cell_type": "code",
   "execution_count": 17,
   "metadata": {},
   "outputs": [],
   "source": [
    "df = pd.merge(df_R,df_M)"
   ]
  },
  {
   "cell_type": "markdown",
   "metadata": {},
   "source": [
    "***Join dataframe rating and movie***"
   ]
  },
  {
   "cell_type": "code",
   "execution_count": 18,
   "metadata": {},
   "outputs": [
    {
     "data": {
      "text/html": [
       "<div>\n",
       "<style scoped>\n",
       "    .dataframe tbody tr th:only-of-type {\n",
       "        vertical-align: middle;\n",
       "    }\n",
       "\n",
       "    .dataframe tbody tr th {\n",
       "        vertical-align: top;\n",
       "    }\n",
       "\n",
       "    .dataframe thead th {\n",
       "        text-align: right;\n",
       "    }\n",
       "</style>\n",
       "<table border=\"1\" class=\"dataframe\">\n",
       "  <thead>\n",
       "    <tr style=\"text-align: right;\">\n",
       "      <th></th>\n",
       "      <th>userId</th>\n",
       "      <th>movieId</th>\n",
       "      <th>rating</th>\n",
       "      <th>timestamp</th>\n",
       "      <th>title</th>\n",
       "      <th>genres</th>\n",
       "    </tr>\n",
       "  </thead>\n",
       "  <tbody>\n",
       "    <tr>\n",
       "      <th>0</th>\n",
       "      <td>1</td>\n",
       "      <td>296</td>\n",
       "      <td>5.0</td>\n",
       "      <td>1147880044</td>\n",
       "      <td>Pulp Fiction (1994)</td>\n",
       "      <td>Comedy|Crime|Drama|Thriller</td>\n",
       "    </tr>\n",
       "    <tr>\n",
       "      <th>1</th>\n",
       "      <td>3</td>\n",
       "      <td>296</td>\n",
       "      <td>5.0</td>\n",
       "      <td>1439474476</td>\n",
       "      <td>Pulp Fiction (1994)</td>\n",
       "      <td>Comedy|Crime|Drama|Thriller</td>\n",
       "    </tr>\n",
       "    <tr>\n",
       "      <th>2</th>\n",
       "      <td>4</td>\n",
       "      <td>296</td>\n",
       "      <td>4.0</td>\n",
       "      <td>1573938898</td>\n",
       "      <td>Pulp Fiction (1994)</td>\n",
       "      <td>Comedy|Crime|Drama|Thriller</td>\n",
       "    </tr>\n",
       "    <tr>\n",
       "      <th>3</th>\n",
       "      <td>5</td>\n",
       "      <td>296</td>\n",
       "      <td>4.0</td>\n",
       "      <td>830786155</td>\n",
       "      <td>Pulp Fiction (1994)</td>\n",
       "      <td>Comedy|Crime|Drama|Thriller</td>\n",
       "    </tr>\n",
       "    <tr>\n",
       "      <th>4</th>\n",
       "      <td>7</td>\n",
       "      <td>296</td>\n",
       "      <td>4.0</td>\n",
       "      <td>835444730</td>\n",
       "      <td>Pulp Fiction (1994)</td>\n",
       "      <td>Comedy|Crime|Drama|Thriller</td>\n",
       "    </tr>\n",
       "    <tr>\n",
       "      <th>...</th>\n",
       "      <td>...</td>\n",
       "      <td>...</td>\n",
       "      <td>...</td>\n",
       "      <td>...</td>\n",
       "      <td>...</td>\n",
       "      <td>...</td>\n",
       "    </tr>\n",
       "    <tr>\n",
       "      <th>25000090</th>\n",
       "      <td>162358</td>\n",
       "      <td>200192</td>\n",
       "      <td>2.0</td>\n",
       "      <td>1553453039</td>\n",
       "      <td>Den frusna leoparden (1986)</td>\n",
       "      <td>(no genres listed)</td>\n",
       "    </tr>\n",
       "    <tr>\n",
       "      <th>25000091</th>\n",
       "      <td>162358</td>\n",
       "      <td>200194</td>\n",
       "      <td>2.0</td>\n",
       "      <td>1553453843</td>\n",
       "      <td>Tough Luck (2004)</td>\n",
       "      <td>Action|Adventure|Thriller</td>\n",
       "    </tr>\n",
       "    <tr>\n",
       "      <th>25000092</th>\n",
       "      <td>162386</td>\n",
       "      <td>139970</td>\n",
       "      <td>3.5</td>\n",
       "      <td>1549215965</td>\n",
       "      <td>I Don't Speak English (1995)</td>\n",
       "      <td>Comedy</td>\n",
       "    </tr>\n",
       "    <tr>\n",
       "      <th>25000093</th>\n",
       "      <td>162386</td>\n",
       "      <td>200726</td>\n",
       "      <td>4.0</td>\n",
       "      <td>1554651417</td>\n",
       "      <td>The Graduates (1995)</td>\n",
       "      <td>Children|Drama</td>\n",
       "    </tr>\n",
       "    <tr>\n",
       "      <th>25000094</th>\n",
       "      <td>162386</td>\n",
       "      <td>200728</td>\n",
       "      <td>4.0</td>\n",
       "      <td>1554651472</td>\n",
       "      <td>Il pesce innamorato (1999)</td>\n",
       "      <td>(no genres listed)</td>\n",
       "    </tr>\n",
       "  </tbody>\n",
       "</table>\n",
       "<p>25000095 rows × 6 columns</p>\n",
       "</div>"
      ],
      "text/plain": [
       "          userId  movieId  rating   timestamp                         title  \\\n",
       "0              1      296     5.0  1147880044           Pulp Fiction (1994)   \n",
       "1              3      296     5.0  1439474476           Pulp Fiction (1994)   \n",
       "2              4      296     4.0  1573938898           Pulp Fiction (1994)   \n",
       "3              5      296     4.0   830786155           Pulp Fiction (1994)   \n",
       "4              7      296     4.0   835444730           Pulp Fiction (1994)   \n",
       "...          ...      ...     ...         ...                           ...   \n",
       "25000090  162358   200192     2.0  1553453039   Den frusna leoparden (1986)   \n",
       "25000091  162358   200194     2.0  1553453843             Tough Luck (2004)   \n",
       "25000092  162386   139970     3.5  1549215965  I Don't Speak English (1995)   \n",
       "25000093  162386   200726     4.0  1554651417          The Graduates (1995)   \n",
       "25000094  162386   200728     4.0  1554651472    Il pesce innamorato (1999)   \n",
       "\n",
       "                               genres  \n",
       "0         Comedy|Crime|Drama|Thriller  \n",
       "1         Comedy|Crime|Drama|Thriller  \n",
       "2         Comedy|Crime|Drama|Thriller  \n",
       "3         Comedy|Crime|Drama|Thriller  \n",
       "4         Comedy|Crime|Drama|Thriller  \n",
       "...                               ...  \n",
       "25000090           (no genres listed)  \n",
       "25000091    Action|Adventure|Thriller  \n",
       "25000092                       Comedy  \n",
       "25000093               Children|Drama  \n",
       "25000094           (no genres listed)  \n",
       "\n",
       "[25000095 rows x 6 columns]"
      ]
     },
     "execution_count": 18,
     "metadata": {},
     "output_type": "execute_result"
    }
   ],
   "source": [
    "df"
   ]
  },
  {
   "cell_type": "code",
   "execution_count": 19,
   "metadata": {},
   "outputs": [],
   "source": [
    "df_train, df_val = train_test_split(df, train_size=0.007, test_size=0.003, stratify=df['rating'])"
   ]
  },
  {
   "cell_type": "markdown",
   "metadata": {},
   "source": [
    "***Preapare Train, validation data***"
   ]
  },
  {
   "cell_type": "code",
   "execution_count": 20,
   "metadata": {},
   "outputs": [],
   "source": [
    "userId_list = list(set(df['userId']))\n",
    "index = 0\n",
    "dict_users = {}\n",
    "for ids in sorted(userId_list):\n",
    "    dict_users.update({ids : index})\n",
    "    index += 1"
   ]
  },
  {
   "cell_type": "markdown",
   "metadata": {},
   "source": [
    "***Re-numbering userId ( to eliminate skipping id)***"
   ]
  },
  {
   "cell_type": "code",
   "execution_count": 21,
   "metadata": {},
   "outputs": [],
   "source": [
    "movieId_list = list(set(df['movieId']))\n",
    "index = 0\n",
    "dict_movies = {}\n",
    "for ids in sorted(movieId_list):\n",
    "    dict_movies.update ({ids : index})\n",
    "    index += 1"
   ]
  },
  {
   "cell_type": "markdown",
   "metadata": {},
   "source": [
    "***Re-numbering movieId***"
   ]
  },
  {
   "cell_type": "code",
   "execution_count": 22,
   "metadata": {},
   "outputs": [],
   "source": [
    "df_train[\"userId\"] = df_train[\"userId\"].map(dict_users)\n",
    "df_train[\"movieId\"] = df_train[\"movieId\"].map(dict_movies)\n",
    "df_val[\"userId\"] = df_val[\"userId\"].map(dict_users)\n",
    "df_val[\"movieId\"] = df_val[\"movieId\"].map(dict_movies)"
   ]
  },
  {
   "cell_type": "markdown",
   "metadata": {},
   "source": [
    "***Map new id to train, validation for both “userId”, “movieId”***"
   ]
  },
  {
   "cell_type": "code",
   "execution_count": 23,
   "metadata": {},
   "outputs": [],
   "source": [
    "num_unique_users = len(userId_list)\n",
    "num_unique_movies = len(movieId_list)"
   ]
  },
  {
   "cell_type": "markdown",
   "metadata": {},
   "source": [
    "## 1.2 Model Preparation and Training"
   ]
  },
  {
   "cell_type": "code",
   "execution_count": 24,
   "metadata": {},
   "outputs": [
    {
     "name": "stderr",
     "output_type": "stream",
     "text": [
      "/Library/Frameworks/Python.framework/Versions/3.10/lib/python3.10/site-packages/keras/optimizers/optimizer_v2/adam.py:114: UserWarning: The `lr` argument is deprecated, use `learning_rate` instead.\n",
      "  super().__init__(name, **kwargs)\n"
     ]
    }
   ],
   "source": [
    "EMBEDDING_SIZE=100\n",
    "users_input = Input(shape=(1,), name=\"users_input\")\n",
    "users_embedding = Embedding(num_unique_users + 1, EMBEDDING_SIZE,name=\"users_embeddings\")(users_input)\n",
    "users_bias = Embedding(num_unique_users + 1, 1, name=\"users_bias\")(users_input)\n",
    "\n",
    "movies_input = Input(shape=(1,), name=\"movies_input\")\n",
    "movies_embedding = Embedding(num_unique_movies + 1, EMBEDDING_SIZE,name=\"movies_embeddings\")(movies_input)\n",
    "movies_bias = Embedding(num_unique_movies + 1, 1, name=\"movies_bias\")(movies_input)\n",
    "\n",
    "dot_product_users_movies = tf.math.multiply(users_embedding, movies_embedding)\n",
    "input_terms = dot_product_users_movies + users_bias + movies_bias\n",
    "input_terms = Flatten(name=\"fl_inputs\")(input_terms)\n",
    "output = Dense(1, activation=\"relu\", name=\"output\")(input_terms)\n",
    "model = Model(inputs=[users_input, movies_input], outputs=output)\n",
    "\n",
    "opt_adam = Adam(lr = 0.005)\n",
    "model.compile(optimizer=opt_adam, loss= ['mse'], metrics=['mean_absolute_error'])"
   ]
  },
  {
   "cell_type": "markdown",
   "metadata": {},
   "source": [
    "***Create Model NCF***"
   ]
  },
  {
   "cell_type": "code",
   "execution_count": 25,
   "metadata": {},
   "outputs": [
    {
     "name": "stdout",
     "output_type": "stream",
     "text": [
      "Model: \"model_1\"\n",
      "__________________________________________________________________________________________________\n",
      " Layer (type)                   Output Shape         Param #     Connected to                     \n",
      "==================================================================================================\n",
      " users_input (InputLayer)       [(None, 1)]          0           []                               \n",
      "                                                                                                  \n",
      " movies_input (InputLayer)      [(None, 1)]          0           []                               \n",
      "                                                                                                  \n",
      " users_embeddings (Embedding)   (None, 1, 100)       16254200    ['users_input[0][0]']            \n",
      "                                                                                                  \n",
      " movies_embeddings (Embedding)  (None, 1, 100)       5904800     ['movies_input[0][0]']           \n",
      "                                                                                                  \n",
      " tf.math.multiply_1 (TFOpLambda  (None, 1, 100)      0           ['users_embeddings[0][0]',       \n",
      " )                                                                'movies_embeddings[0][0]']      \n",
      "                                                                                                  \n",
      " users_bias (Embedding)         (None, 1, 1)         162542      ['users_input[0][0]']            \n",
      "                                                                                                  \n",
      " tf.__operators__.add_2 (TFOpLa  (None, 1, 100)      0           ['tf.math.multiply_1[0][0]',     \n",
      " mbda)                                                            'users_bias[0][0]']             \n",
      "                                                                                                  \n",
      " movies_bias (Embedding)        (None, 1, 1)         59048       ['movies_input[0][0]']           \n",
      "                                                                                                  \n",
      " tf.__operators__.add_3 (TFOpLa  (None, 1, 100)      0           ['tf.__operators__.add_2[0][0]', \n",
      " mbda)                                                            'movies_bias[0][0]']            \n",
      "                                                                                                  \n",
      " fl_inputs (Flatten)            (None, 100)          0           ['tf.__operators__.add_3[0][0]'] \n",
      "                                                                                                  \n",
      " output (Dense)                 (None, 1)            101         ['fl_inputs[0][0]']              \n",
      "                                                                                                  \n",
      "==================================================================================================\n",
      "Total params: 22,380,691\n",
      "Trainable params: 22,380,691\n",
      "Non-trainable params: 0\n",
      "__________________________________________________________________________________________________\n"
     ]
    }
   ],
   "source": [
    "model.summary()"
   ]
  },
  {
   "cell_type": "markdown",
   "metadata": {},
   "source": [
    "***View Model Summary***"
   ]
  },
  {
   "cell_type": "code",
   "execution_count": 26,
   "metadata": {},
   "outputs": [
    {
     "name": "stdout",
     "output_type": "stream",
     "text": [
      "Epoch 1/10\n"
     ]
    },
    {
     "name": "stderr",
     "output_type": "stream",
     "text": [
      "2022-11-24 16:32:29.816026: I tensorflow/core/grappler/optimizers/custom_graph_optimizer_registry.cc:114] Plugin optimizer for device_type GPU is enabled.\n"
     ]
    },
    {
     "name": "stdout",
     "output_type": "stream",
     "text": [
      "86/86 [==============================] - ETA: 0s - loss: 5.3306 - mean_absolute_error: 1.8748"
     ]
    },
    {
     "name": "stderr",
     "output_type": "stream",
     "text": [
      "2022-11-24 16:32:35.571382: I tensorflow/core/grappler/optimizers/custom_graph_optimizer_registry.cc:114] Plugin optimizer for device_type GPU is enabled.\n"
     ]
    },
    {
     "name": "stdout",
     "output_type": "stream",
     "text": [
      "86/86 [==============================] - 7s 64ms/step - loss: 5.3306 - mean_absolute_error: 1.8748 - val_loss: 1.8116 - val_mean_absolute_error: 1.0504\n",
      "Epoch 2/10\n",
      "86/86 [==============================] - 4s 42ms/step - loss: 1.1513 - mean_absolute_error: 0.8187 - val_loss: 1.4444 - val_mean_absolute_error: 0.9305\n",
      "Epoch 3/10\n",
      "86/86 [==============================] - 3s 39ms/step - loss: 0.6077 - mean_absolute_error: 0.5775 - val_loss: 1.4018 - val_mean_absolute_error: 0.9142\n",
      "Epoch 4/10\n",
      "86/86 [==============================] - 3s 36ms/step - loss: 0.3328 - mean_absolute_error: 0.4141 - val_loss: 1.3990 - val_mean_absolute_error: 0.9130\n",
      "Epoch 5/10\n",
      "86/86 [==============================] - 3s 34ms/step - loss: 0.1787 - mean_absolute_error: 0.3012 - val_loss: 1.4080 - val_mean_absolute_error: 0.9189\n",
      "Epoch 6/10\n",
      "86/86 [==============================] - 3s 32ms/step - loss: 0.1272 - mean_absolute_error: 0.2472 - val_loss: 1.3956 - val_mean_absolute_error: 0.9145\n",
      "Epoch 7/10\n",
      "86/86 [==============================] - 3s 37ms/step - loss: 0.1046 - mean_absolute_error: 0.2154 - val_loss: 1.3899 - val_mean_absolute_error: 0.9142\n",
      "Epoch 8/10\n",
      "86/86 [==============================] - 3s 33ms/step - loss: 0.0832 - mean_absolute_error: 0.1860 - val_loss: 1.3797 - val_mean_absolute_error: 0.9108\n",
      "Epoch 9/10\n",
      "86/86 [==============================] - 3s 37ms/step - loss: 0.0654 - mean_absolute_error: 0.1593 - val_loss: 1.3773 - val_mean_absolute_error: 0.9108\n",
      "Epoch 10/10\n",
      "86/86 [==============================] - 3s 33ms/step - loss: 0.0530 - mean_absolute_error: 0.1383 - val_loss: 1.3666 - val_mean_absolute_error: 0.9072\n"
     ]
    }
   ],
   "source": [
    "BS = 2048     #[64, 128, 256, 512, 1024, 2048]  # try at least 3 values\n",
    "EP = 10       #[5, 10, 20, 50, 60]              # try at least 3 values\n",
    "\n",
    "history = model.fit(x=[df_train.userId, df_train.movieId], y=df_train.rating, batch_size=BS, epochs=EP, verbose=1, validation_data=([df_val.userId, df_val.movieId], df_val.rating))"
   ]
  },
  {
   "cell_type": "markdown",
   "metadata": {},
   "source": [
    "***Training Model***"
   ]
  },
  {
   "cell_type": "markdown",
   "metadata": {},
   "source": [
    "## 11.3 Model Performance Evaluation"
   ]
  },
  {
   "cell_type": "code",
   "execution_count": 27,
   "metadata": {},
   "outputs": [
    {
     "data": {
      "text/plain": [
       "[<matplotlib.lines.Line2D at 0x4accb7f70>]"
      ]
     },
     "execution_count": 27,
     "metadata": {},
     "output_type": "execute_result"
    },
    {
     "data": {
      "image/png": "[encoded data removed]",
      "text/plain": [
       "<Figure size 432x288 with 1 Axes>"
      ]
     },
     "metadata": {
      "needs_background": "light"
     },
     "output_type": "display_data"
    }
   ],
   "source": [
    "plt.plot(history.history[\"mean_absolute_error\"])\n",
    "plt.plot(history.history[\"val_mean_absolute_error\"])"
   ]
  },
  {
   "cell_type": "code",
   "execution_count": 28,
   "metadata": {},
   "outputs": [
    {
     "data": {
      "text/plain": [
       "[<matplotlib.lines.Line2D at 0x3177f38e0>]"
      ]
     },
     "execution_count": 28,
     "metadata": {},
     "output_type": "execute_result"
    },
    {
     "data": {
      "image/png": "[encoded data removed]",
      "text/plain": [
       "<Figure size 432x288 with 1 Axes>"
      ]
     },
     "metadata": {
      "needs_background": "light"
     },
     "output_type": "display_data"
    }
   ],
   "source": [
    "plt.plot(history.history[\"loss\"])\n",
    "plt.plot(history.history[\"val_loss\"])"
   ]
  },
  {
   "cell_type": "markdown",
   "metadata": {},
   "source": [
    "***Visualize loss***"
   ]
  },
  {
   "cell_type": "code",
   "execution_count": 29,
   "metadata": {},
   "outputs": [],
   "source": [
    "# userPredictR = pd.DataFrame(model.predict([df_val.userId, df_val.movieId]))"
   ]
  },
  {
   "cell_type": "markdown",
   "metadata": {},
   "source": [
    "***Model Prediction***"
   ]
  }
 ],
 "metadata": {
  "kernelspec": {
   "display_name": "Python 3.10.4 64-bit",
   "language": "python",
   "name": "python3"
  },
  "language_info": {
   "codemirror_mode": {
    "name": "ipython",
    "version": 3
   },
   "file_extension": ".py",
   "mimetype": "text/x-python",
   "name": "python",
   "nbconvert_exporter": "python",
   "pygments_lexer": "ipython3",
   "version": "3.10.4"
  },
  "orig_nbformat": 4,
  "vscode": {
   "interpreter": {
    "hash": "aee8b7b246df8f9039afb4144a1f6fd8d2ca17a180786b69acc140d282b71a49"
   }
  }
 },
 "nbformat": 4,
 "nbformat_minor": 2
}
