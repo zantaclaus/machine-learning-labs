{
 "cells": [
  {
   "cell_type": "code",
   "execution_count": 15,
   "metadata": {},
   "outputs": [],
   "source": [
    "import numpy as np\n",
    "import pandas as pd\n",
    "import matplotlib.pyplot as plt\n",
    "import tensorflow as tf\n",
    "from tensorflow import keras\n",
    "from tensorflow.keras.models import Model\n",
    "from tensorflow.keras import Input\n",
    "from tensorflow.keras.layers import Embedding\n",
    "from tensorflow.keras.layers import Flatten, Dense\n",
    "from tensorflow.keras.optimizers import Adam\n",
    "from sklearn.model_selection import train_test_split"
   ]
  },
  {
   "cell_type": "markdown",
   "metadata": {},
   "source": [
    "## 11.1 Data Preparation"
   ]
  },
  {
   "cell_type": "code",
   "execution_count": 16,
   "metadata": {},
   "outputs": [],
   "source": [
    "df_R = pd.read_csv('ratings.csv')\n",
    "df_M = pd.read_csv('movies.csv')"
   ]
  },
  {
   "cell_type": "markdown",
   "metadata": {},
   "source": [
    "***Read data from 2 files***"
   ]
  },
  {
   "cell_type": "code",
   "execution_count": 17,
   "metadata": {},
   "outputs": [],
   "source": [
    "df = pd.merge(df_R,df_M)"
   ]
  },
  {
   "cell_type": "markdown",
   "metadata": {},
   "source": [
    "***Join dataframe rating and movie***"
   ]
  },
  {
   "cell_type": "code",
   "execution_count": 18,
   "metadata": {},
   "outputs": [
    {
     "data": {
      "text/html": [
       "<div>\n",
       "<style scoped>\n",
       "    .dataframe tbody tr th:only-of-type {\n",
       "        vertical-align: middle;\n",
       "    }\n",
       "\n",
       "    .dataframe tbody tr th {\n",
       "        vertical-align: top;\n",
       "    }\n",
       "\n",
       "    .dataframe thead th {\n",
       "        text-align: right;\n",
       "    }\n",
       "</style>\n",
       "<table border=\"1\" class=\"dataframe\">\n",
       "  <thead>\n",
       "    <tr style=\"text-align: right;\">\n",
       "      <th></th>\n",
       "      <th>userId</th>\n",
       "      <th>movieId</th>\n",
       "      <th>rating</th>\n",
       "      <th>timestamp</th>\n",
       "      <th>title</th>\n",
       "      <th>genres</th>\n",
       "    </tr>\n",
       "  </thead>\n",
       "  <tbody>\n",
       "    <tr>\n",
       "      <th>0</th>\n",
       "      <td>1</td>\n",
       "      <td>296</td>\n",
       "      <td>5.0</td>\n",
       "      <td>1147880044</td>\n",
       "      <td>Pulp Fiction (1994)</td>\n",
       "      <td>Comedy|Crime|Drama|Thriller</td>\n",
       "    </tr>\n",
       "    <tr>\n",
       "      <th>1</th>\n",
       "      <td>3</td>\n",
       "      <td>296</td>\n",
       "      <td>5.0</td>\n",
       "      <td>1439474476</td>\n",
       "      <td>Pulp Fiction (1994)</td>\n",
       "      <td>Comedy|Crime|Drama|Thriller</td>\n",
       "    </tr>\n",
       "    <tr>\n",
       "      <th>2</th>\n",
       "      <td>4</td>\n",
       "      <td>296</td>\n",
       "      <td>4.0</td>\n",
       "      <td>1573938898</td>\n",
       "      <td>Pulp Fiction (1994)</td>\n",
       "      <td>Comedy|Crime|Drama|Thriller</td>\n",
       "    </tr>\n",
       "    <tr>\n",
       "      <th>3</th>\n",
       "      <td>5</td>\n",
       "      <td>296</td>\n",
       "      <td>4.0</td>\n",
       "      <td>830786155</td>\n",
       "      <td>Pulp Fiction (1994)</td>\n",
       "      <td>Comedy|Crime|Drama|Thriller</td>\n",
       "    </tr>\n",
       "    <tr>\n",
       "      <th>4</th>\n",
       "      <td>7</td>\n",
       "      <td>296</td>\n",
       "      <td>4.0</td>\n",
       "      <td>835444730</td>\n",
       "      <td>Pulp Fiction (1994)</td>\n",
       "      <td>Comedy|Crime|Drama|Thriller</td>\n",
       "    </tr>\n",
       "    <tr>\n",
       "      <th>...</th>\n",
       "      <td>...</td>\n",
       "      <td>...</td>\n",
       "      <td>...</td>\n",
       "      <td>...</td>\n",
       "      <td>...</td>\n",
       "      <td>...</td>\n",
       "    </tr>\n",
       "    <tr>\n",
       "      <th>25000090</th>\n",
       "      <td>162358</td>\n",
       "      <td>200192</td>\n",
       "      <td>2.0</td>\n",
       "      <td>1553453039</td>\n",
       "      <td>Den frusna leoparden (1986)</td>\n",
       "      <td>(no genres listed)</td>\n",
       "    </tr>\n",
       "    <tr>\n",
       "      <th>25000091</th>\n",
       "      <td>162358</td>\n",
       "      <td>200194</td>\n",
       "      <td>2.0</td>\n",
       "      <td>1553453843</td>\n",
       "      <td>Tough Luck (2004)</td>\n",
       "      <td>Action|Adventure|Thriller</td>\n",
       "    </tr>\n",
       "    <tr>\n",
       "      <th>25000092</th>\n",
       "      <td>162386</td>\n",
       "      <td>139970</td>\n",
       "      <td>3.5</td>\n",
       "      <td>1549215965</td>\n",
       "      <td>I Don't Speak English (1995)</td>\n",
       "      <td>Comedy</td>\n",
       "    </tr>\n",
       "    <tr>\n",
       "      <th>25000093</th>\n",
       "      <td>162386</td>\n",
       "      <td>200726</td>\n",
       "      <td>4.0</td>\n",
       "      <td>1554651417</td>\n",
       "      <td>The Graduates (1995)</td>\n",
       "      <td>Children|Drama</td>\n",
       "    </tr>\n",
       "    <tr>\n",
       "      <th>25000094</th>\n",
       "      <td>162386</td>\n",
       "      <td>200728</td>\n",
       "      <td>4.0</td>\n",
       "      <td>1554651472</td>\n",
       "      <td>Il pesce innamorato (1999)</td>\n",
       "      <td>(no genres listed)</td>\n",
       "    </tr>\n",
       "  </tbody>\n",
       "</table>\n",
       "<p>25000095 rows × 6 columns</p>\n",
       "</div>"
      ],
      "text/plain": [
       "          userId  movieId  rating   timestamp                         title  \\\n",
       "0              1      296     5.0  1147880044           Pulp Fiction (1994)   \n",
       "1              3      296     5.0  1439474476           Pulp Fiction (1994)   \n",
       "2              4      296     4.0  1573938898           Pulp Fiction (1994)   \n",
       "3              5      296     4.0   830786155           Pulp Fiction (1994)   \n",
       "4              7      296     4.0   835444730           Pulp Fiction (1994)   \n",
       "...          ...      ...     ...         ...                           ...   \n",
       "25000090  162358   200192     2.0  1553453039   Den frusna leoparden (1986)   \n",
       "25000091  162358   200194     2.0  1553453843             Tough Luck (2004)   \n",
       "25000092  162386   139970     3.5  1549215965  I Don't Speak English (1995)   \n",
       "25000093  162386   200726     4.0  1554651417          The Graduates (1995)   \n",
       "25000094  162386   200728     4.0  1554651472    Il pesce innamorato (1999)   \n",
       "\n",
       "                               genres  \n",
       "0         Comedy|Crime|Drama|Thriller  \n",
       "1         Comedy|Crime|Drama|Thriller  \n",
       "2         Comedy|Crime|Drama|Thriller  \n",
       "3         Comedy|Crime|Drama|Thriller  \n",
       "4         Comedy|Crime|Drama|Thriller  \n",
       "...                               ...  \n",
       "25000090           (no genres listed)  \n",
       "25000091    Action|Adventure|Thriller  \n",
       "25000092                       Comedy  \n",
       "25000093               Children|Drama  \n",
       "25000094           (no genres listed)  \n",
       "\n",
       "[25000095 rows x 6 columns]"
      ]
     },
     "execution_count": 18,
     "metadata": {},
     "output_type": "execute_result"
    }
   ],
   "source": [
    "df"
   ]
  },
  {
   "cell_type": "code",
   "execution_count": 19,
   "metadata": {},
   "outputs": [],
   "source": [
    "df_train, df_val = train_test_split(df, train_size=0.007, test_size=0.003, stratify=df['rating'])"
   ]
  },
  {
   "cell_type": "markdown",
   "metadata": {},
   "source": [
    "***Preapare Train, validation data***"
   ]
  },
  {
   "cell_type": "code",
   "execution_count": 20,
   "metadata": {},
   "outputs": [],
   "source": [
    "userId_list = list(set(df['userId']))\n",
    "index = 0\n",
    "dict_users = {}\n",
    "for ids in sorted(userId_list):\n",
    "    dict_users.update({ids : index})\n",
    "    index += 1"
   ]
  },
  {
   "cell_type": "markdown",
   "metadata": {},
   "source": [
    "***Re-numbering userId ( to eliminate skipping id)***"
   ]
  },
  {
   "cell_type": "code",
   "execution_count": 21,
   "metadata": {},
   "outputs": [],
   "source": [
    "movieId_list = list(set(df['movieId']))\n",
    "index = 0\n",
    "dict_movies = {}\n",
    "for ids in sorted(movieId_list):\n",
    "    dict_movies.update ({ids : index})\n",
    "    index += 1"
   ]
  },
  {
   "cell_type": "markdown",
   "metadata": {},
   "source": [
    "***Re-numbering movieId***"
   ]
  },
  {
   "cell_type": "code",
   "execution_count": 22,
   "metadata": {},
   "outputs": [],
   "source": [
    "df_train[\"userId\"] = df_train[\"userId\"].map(dict_users)\n",
    "df_train[\"movieId\"] = df_train[\"movieId\"].map(dict_movies)\n",
    "df_val[\"userId\"] = df_val[\"userId\"].map(dict_users)\n",
    "df_val[\"movieId\"] = df_val[\"movieId\"].map(dict_movies)"
   ]
  },
  {
   "cell_type": "markdown",
   "metadata": {},
   "source": [
    "***Map new id to train, validation for both “userId”, “movieId”***"
   ]
  },
  {
   "cell_type": "code",
   "execution_count": 23,
   "metadata": {},
   "outputs": [],
   "source": [
    "num_unique_users = len(userId_list)\n",
    "num_unique_movies = len(movieId_list)"
   ]
  },
  {
   "cell_type": "markdown",
   "metadata": {},
   "source": [
    "## 1.2 Model Preparation and Training"
   ]
  },
  {
   "cell_type": "code",
   "execution_count": 24,
   "metadata": {},
   "outputs": [
    {
     "name": "stderr",
     "output_type": "stream",
     "text": [
      "/Library/Frameworks/Python.framework/Versions/3.10/lib/python3.10/site-packages/keras/optimizers/optimizer_v2/adam.py:114: UserWarning: The `lr` argument is deprecated, use `learning_rate` instead.\n",
      "  super().__init__(name, **kwargs)\n"
     ]
    }
   ],
   "source": [
    "EMBEDDING_SIZE=100\n",
    "users_input = Input(shape=(1,), name=\"users_input\")\n",
    "users_embedding = Embedding(num_unique_users + 1, EMBEDDING_SIZE,name=\"users_embeddings\")(users_input)\n",
    "users_bias = Embedding(num_unique_users + 1, 1, name=\"users_bias\")(users_input)\n",
    "\n",
    "movies_input = Input(shape=(1,), name=\"movies_input\")\n",
    "movies_embedding = Embedding(num_unique_movies + 1, EMBEDDING_SIZE,name=\"movies_embeddings\")(movies_input)\n",
    "movies_bias = Embedding(num_unique_movies + 1, 1, name=\"movies_bias\")(movies_input)\n",
    "\n",
    "dot_product_users_movies = tf.math.multiply(users_embedding, movies_embedding)\n",
    "input_terms = dot_product_users_movies + users_bias + movies_bias\n",
    "input_terms = Flatten(name=\"fl_inputs\")(input_terms)\n",
    "output = Dense(1, activation=\"relu\", name=\"output\")(input_terms)\n",
    "model = Model(inputs=[users_input, movies_input], outputs=output)\n",
    "\n",
    "opt_adam = Adam(lr = 0.005)\n",
    "model.compile(optimizer=opt_adam, loss= ['mse'], metrics=['mean_absolute_error'])"
   ]
  },
  {
   "cell_type": "markdown",
   "metadata": {},
   "source": [
    "***Create Model NCF***"
   ]
  },
  {
   "cell_type": "code",
   "execution_count": 25,
   "metadata": {},
   "outputs": [
    {
     "name": "stdout",
     "output_type": "stream",
     "text": [
      "Model: \"model_1\"\n",
      "__________________________________________________________________________________________________\n",
      " Layer (type)                   Output Shape         Param #     Connected to                     \n",
      "==================================================================================================\n",
      " users_input (InputLayer)       [(None, 1)]          0           []                               \n",
      "                                                                                                  \n",
      " movies_input (InputLayer)      [(None, 1)]          0           []                               \n",
      "                                                                                                  \n",
      " users_embeddings (Embedding)   (None, 1, 100)       16254200    ['users_input[0][0]']            \n",
      "                                                                                                  \n",
      " movies_embeddings (Embedding)  (None, 1, 100)       5904800     ['movies_input[0][0]']           \n",
      "                                                                                                  \n",
      " tf.math.multiply_1 (TFOpLambda  (None, 1, 100)      0           ['users_embeddings[0][0]',       \n",
      " )                                                                'movies_embeddings[0][0]']      \n",
      "                                                                                                  \n",
      " users_bias (Embedding)         (None, 1, 1)         162542      ['users_input[0][0]']            \n",
      "                                                                                                  \n",
      " tf.__operators__.add_2 (TFOpLa  (None, 1, 100)      0           ['tf.math.multiply_1[0][0]',     \n",
      " mbda)                                                            'users_bias[0][0]']             \n",
      "                                                                                                  \n",
      " movies_bias (Embedding)        (None, 1, 1)         59048       ['movies_input[0][0]']           \n",
      "                                                                                                  \n",
      " tf.__operators__.add_3 (TFOpLa  (None, 1, 100)      0           ['tf.__operators__.add_2[0][0]', \n",
      " mbda)                                                            'movies_bias[0][0]']            \n",
      "                                                                                                  \n",
      " fl_inputs (Flatten)            (None, 100)          0           ['tf.__operators__.add_3[0][0]'] \n",
      "                                                                                                  \n",
      " output (Dense)                 (None, 1)            101         ['fl_inputs[0][0]']              \n",
      "                                                                                                  \n",
      "==================================================================================================\n",
      "Total params: 22,380,691\n",
      "Trainable params: 22,380,691\n",
      "Non-trainable params: 0\n",
      "__________________________________________________________________________________________________\n"
     ]
    }
   ],
   "source": [
    "model.summary()"
   ]
  },
  {
   "cell_type": "markdown",
   "metadata": {},
   "source": [
    "***View Model Summary***"
   ]
  },
  {
   "cell_type": "code",
   "execution_count": 26,
   "metadata": {},
   "outputs": [
    {
     "name": "stdout",
     "output_type": "stream",
     "text": [
      "Epoch 1/60\n"
     ]
    },
    {
     "name": "stderr",
     "output_type": "stream",
     "text": [
      "2022-11-24 15:26:36.241698: I tensorflow/core/grappler/optimizers/custom_graph_optimizer_registry.cc:114] Plugin optimizer for device_type GPU is enabled.\n"
     ]
    },
    {
     "name": "stdout",
     "output_type": "stream",
     "text": [
      "342/342 [==============================] - ETA: 0s - loss: 3.2183 - mean_absolute_error: 1.3835"
     ]
    },
    {
     "name": "stderr",
     "output_type": "stream",
     "text": [
      "2022-11-24 15:26:47.248324: I tensorflow/core/grappler/optimizers/custom_graph_optimizer_registry.cc:114] Plugin optimizer for device_type GPU is enabled.\n"
     ]
    },
    {
     "name": "stdout",
     "output_type": "stream",
     "text": [
      "342/342 [==============================] - 12s 33ms/step - loss: 3.2183 - mean_absolute_error: 1.3835 - val_loss: 1.4930 - val_mean_absolute_error: 0.9542\n",
      "Epoch 2/60\n",
      "342/342 [==============================] - 11s 32ms/step - loss: 0.8444 - mean_absolute_error: 0.7100 - val_loss: 1.2462 - val_mean_absolute_error: 0.8693\n",
      "Epoch 3/60\n",
      "342/342 [==============================] - 10s 30ms/step - loss: 0.3343 - mean_absolute_error: 0.4339 - val_loss: 1.2269 - val_mean_absolute_error: 0.8673\n",
      "Epoch 4/60\n",
      "342/342 [==============================] - 11s 32ms/step - loss: 0.1570 - mean_absolute_error: 0.3050 - val_loss: 1.1935 - val_mean_absolute_error: 0.8555\n",
      "Epoch 5/60\n",
      "342/342 [==============================] - 10s 31ms/step - loss: 0.1060 - mean_absolute_error: 0.2494 - val_loss: 1.1693 - val_mean_absolute_error: 0.8482\n",
      "Epoch 6/60\n",
      "342/342 [==============================] - 10s 30ms/step - loss: 0.0757 - mean_absolute_error: 0.2095 - val_loss: 1.1554 - val_mean_absolute_error: 0.8444\n",
      "Epoch 7/60\n",
      "342/342 [==============================] - 10s 31ms/step - loss: 0.0544 - mean_absolute_error: 0.1773 - val_loss: 1.1396 - val_mean_absolute_error: 0.8386\n",
      "Epoch 8/60\n",
      "342/342 [==============================] - 10s 31ms/step - loss: 0.0437 - mean_absolute_error: 0.1607 - val_loss: 1.1276 - val_mean_absolute_error: 0.8356\n",
      "Epoch 9/60\n",
      "342/342 [==============================] - 11s 31ms/step - loss: 0.0404 - mean_absolute_error: 0.1558 - val_loss: 1.1159 - val_mean_absolute_error: 0.8301\n",
      "Epoch 10/60\n",
      "342/342 [==============================] - 11s 31ms/step - loss: 0.0403 - mean_absolute_error: 0.1570 - val_loss: 1.1035 - val_mean_absolute_error: 0.8271\n",
      "Epoch 11/60\n",
      "342/342 [==============================] - 11s 31ms/step - loss: 0.0395 - mean_absolute_error: 0.1563 - val_loss: 1.0933 - val_mean_absolute_error: 0.8240\n",
      "Epoch 12/60\n",
      "342/342 [==============================] - 10s 29ms/step - loss: 0.0406 - mean_absolute_error: 0.1594 - val_loss: 1.0700 - val_mean_absolute_error: 0.8128\n",
      "Epoch 13/60\n",
      "342/342 [==============================] - 10s 30ms/step - loss: 0.0385 - mean_absolute_error: 0.1557 - val_loss: 1.0626 - val_mean_absolute_error: 0.8130\n",
      "Epoch 14/60\n",
      "342/342 [==============================] - 10s 29ms/step - loss: 0.0361 - mean_absolute_error: 0.1508 - val_loss: 1.0441 - val_mean_absolute_error: 0.8038\n",
      "Epoch 15/60\n",
      "342/342 [==============================] - 10s 30ms/step - loss: 0.0327 - mean_absolute_error: 0.1436 - val_loss: 1.0326 - val_mean_absolute_error: 0.8005\n",
      "Epoch 16/60\n",
      "342/342 [==============================] - 10s 30ms/step - loss: 0.0296 - mean_absolute_error: 0.1364 - val_loss: 1.0191 - val_mean_absolute_error: 0.7928\n",
      "Epoch 17/60\n",
      "342/342 [==============================] - 10s 30ms/step - loss: 0.0285 - mean_absolute_error: 0.1339 - val_loss: 1.0160 - val_mean_absolute_error: 0.7950\n",
      "Epoch 18/60\n",
      "342/342 [==============================] - 10s 31ms/step - loss: 0.0271 - mean_absolute_error: 0.1305 - val_loss: 1.0021 - val_mean_absolute_error: 0.7884\n",
      "Epoch 19/60\n",
      "342/342 [==============================] - 10s 30ms/step - loss: 0.0259 - mean_absolute_error: 0.1274 - val_loss: 0.9948 - val_mean_absolute_error: 0.7850\n",
      "Epoch 20/60\n",
      "342/342 [==============================] - 11s 31ms/step - loss: 0.0249 - mean_absolute_error: 0.1252 - val_loss: 0.9907 - val_mean_absolute_error: 0.7854\n",
      "Epoch 21/60\n",
      "342/342 [==============================] - 11s 31ms/step - loss: 0.0239 - mean_absolute_error: 0.1225 - val_loss: 0.9815 - val_mean_absolute_error: 0.7798\n",
      "Epoch 22/60\n",
      "342/342 [==============================] - 11s 31ms/step - loss: 0.0232 - mean_absolute_error: 0.1206 - val_loss: 0.9758 - val_mean_absolute_error: 0.7775\n",
      "Epoch 23/60\n",
      "342/342 [==============================] - 11s 31ms/step - loss: 0.0224 - mean_absolute_error: 0.1188 - val_loss: 0.9714 - val_mean_absolute_error: 0.7766\n",
      "Epoch 24/60\n",
      "342/342 [==============================] - 11s 33ms/step - loss: 0.0216 - mean_absolute_error: 0.1167 - val_loss: 0.9649 - val_mean_absolute_error: 0.7723\n",
      "Epoch 25/60\n",
      "342/342 [==============================] - 10s 30ms/step - loss: 0.0206 - mean_absolute_error: 0.1142 - val_loss: 0.9654 - val_mean_absolute_error: 0.7750\n",
      "Epoch 26/60\n",
      "342/342 [==============================] - 10s 29ms/step - loss: 0.0197 - mean_absolute_error: 0.1115 - val_loss: 0.9603 - val_mean_absolute_error: 0.7723\n",
      "Epoch 27/60\n",
      "342/342 [==============================] - 11s 31ms/step - loss: 0.0188 - mean_absolute_error: 0.1091 - val_loss: 0.9553 - val_mean_absolute_error: 0.7686\n",
      "Epoch 28/60\n",
      "342/342 [==============================] - 11s 32ms/step - loss: 0.0186 - mean_absolute_error: 0.1083 - val_loss: 0.9504 - val_mean_absolute_error: 0.7653\n",
      "Epoch 29/60\n",
      "342/342 [==============================] - 10s 30ms/step - loss: 0.0182 - mean_absolute_error: 0.1074 - val_loss: 0.9583 - val_mean_absolute_error: 0.7740\n",
      "Epoch 30/60\n",
      "342/342 [==============================] - 10s 29ms/step - loss: 0.0172 - mean_absolute_error: 0.1046 - val_loss: 0.9475 - val_mean_absolute_error: 0.7648\n",
      "Epoch 31/60\n",
      "342/342 [==============================] - 10s 30ms/step - loss: 0.0168 - mean_absolute_error: 0.1030 - val_loss: 0.9480 - val_mean_absolute_error: 0.7669\n",
      "Epoch 32/60\n",
      "342/342 [==============================] - 10s 30ms/step - loss: 0.0159 - mean_absolute_error: 0.1006 - val_loss: 0.9419 - val_mean_absolute_error: 0.7612\n",
      "Epoch 33/60\n",
      "342/342 [==============================] - 10s 29ms/step - loss: 0.0155 - mean_absolute_error: 0.0991 - val_loss: 0.9444 - val_mean_absolute_error: 0.7649\n",
      "Epoch 34/60\n",
      "342/342 [==============================] - 10s 30ms/step - loss: 0.0150 - mean_absolute_error: 0.0976 - val_loss: 0.9468 - val_mean_absolute_error: 0.7675\n",
      "Epoch 35/60\n",
      "342/342 [==============================] - 10s 30ms/step - loss: 0.0147 - mean_absolute_error: 0.0966 - val_loss: 0.9390 - val_mean_absolute_error: 0.7608\n",
      "Epoch 36/60\n",
      "342/342 [==============================] - 10s 30ms/step - loss: 0.0141 - mean_absolute_error: 0.0948 - val_loss: 0.9403 - val_mean_absolute_error: 0.7622\n",
      "Epoch 37/60\n",
      "342/342 [==============================] - 10s 30ms/step - loss: 0.0137 - mean_absolute_error: 0.0933 - val_loss: 0.9387 - val_mean_absolute_error: 0.7618\n",
      "Epoch 38/60\n",
      "342/342 [==============================] - 11s 32ms/step - loss: 0.0136 - mean_absolute_error: 0.0930 - val_loss: 0.9356 - val_mean_absolute_error: 0.7585\n",
      "Epoch 39/60\n",
      "342/342 [==============================] - 10s 30ms/step - loss: 0.0136 - mean_absolute_error: 0.0927 - val_loss: 0.9348 - val_mean_absolute_error: 0.7593\n",
      "Epoch 40/60\n",
      "342/342 [==============================] - 11s 31ms/step - loss: 0.0133 - mean_absolute_error: 0.0917 - val_loss: 0.9340 - val_mean_absolute_error: 0.7579\n",
      "Epoch 41/60\n",
      "342/342 [==============================] - 11s 33ms/step - loss: 0.0125 - mean_absolute_error: 0.0890 - val_loss: 0.9379 - val_mean_absolute_error: 0.7619\n",
      "Epoch 42/60\n",
      "342/342 [==============================] - 11s 32ms/step - loss: 0.0120 - mean_absolute_error: 0.0873 - val_loss: 0.9329 - val_mean_absolute_error: 0.7575\n",
      "Epoch 43/60\n",
      "342/342 [==============================] - 11s 31ms/step - loss: 0.0120 - mean_absolute_error: 0.0872 - val_loss: 0.9333 - val_mean_absolute_error: 0.7572\n",
      "Epoch 44/60\n",
      "342/342 [==============================] - 10s 30ms/step - loss: 0.0116 - mean_absolute_error: 0.0859 - val_loss: 0.9306 - val_mean_absolute_error: 0.7557\n",
      "Epoch 45/60\n",
      "342/342 [==============================] - 10s 30ms/step - loss: 0.0111 - mean_absolute_error: 0.0839 - val_loss: 0.9355 - val_mean_absolute_error: 0.7595\n",
      "Epoch 46/60\n",
      "342/342 [==============================] - 10s 29ms/step - loss: 0.0107 - mean_absolute_error: 0.0824 - val_loss: 0.9416 - val_mean_absolute_error: 0.7652\n",
      "Epoch 47/60\n",
      "342/342 [==============================] - 10s 30ms/step - loss: 0.0106 - mean_absolute_error: 0.0821 - val_loss: 0.9314 - val_mean_absolute_error: 0.7566\n",
      "Epoch 48/60\n",
      "342/342 [==============================] - 10s 30ms/step - loss: 0.0107 - mean_absolute_error: 0.0823 - val_loss: 0.9350 - val_mean_absolute_error: 0.7599\n",
      "Epoch 49/60\n",
      "342/342 [==============================] - 10s 30ms/step - loss: 0.0102 - mean_absolute_error: 0.0806 - val_loss: 0.9287 - val_mean_absolute_error: 0.7541\n",
      "Epoch 50/60\n",
      "342/342 [==============================] - 10s 30ms/step - loss: 0.0100 - mean_absolute_error: 0.0799 - val_loss: 0.9332 - val_mean_absolute_error: 0.7583\n",
      "Epoch 51/60\n",
      "342/342 [==============================] - 10s 30ms/step - loss: 0.0103 - mean_absolute_error: 0.0808 - val_loss: 0.9350 - val_mean_absolute_error: 0.7597\n",
      "Epoch 52/60\n",
      "342/342 [==============================] - 10s 30ms/step - loss: 0.0101 - mean_absolute_error: 0.0803 - val_loss: 0.9299 - val_mean_absolute_error: 0.7556\n",
      "Epoch 53/60\n",
      "342/342 [==============================] - 11s 31ms/step - loss: 0.0097 - mean_absolute_error: 0.0787 - val_loss: 0.9251 - val_mean_absolute_error: 0.7509\n",
      "Epoch 54/60\n",
      "342/342 [==============================] - 11s 31ms/step - loss: 0.0090 - mean_absolute_error: 0.0756 - val_loss: 0.9324 - val_mean_absolute_error: 0.7578\n",
      "Epoch 55/60\n",
      "342/342 [==============================] - 11s 31ms/step - loss: 0.0088 - mean_absolute_error: 0.0746 - val_loss: 0.9275 - val_mean_absolute_error: 0.7538\n",
      "Epoch 56/60\n",
      "342/342 [==============================] - 10s 30ms/step - loss: 0.0088 - mean_absolute_error: 0.0749 - val_loss: 0.9321 - val_mean_absolute_error: 0.7575\n",
      "Epoch 57/60\n",
      "342/342 [==============================] - 10s 30ms/step - loss: 0.0086 - mean_absolute_error: 0.0740 - val_loss: 0.9348 - val_mean_absolute_error: 0.7600\n",
      "Epoch 58/60\n",
      "342/342 [==============================] - 10s 29ms/step - loss: 0.0086 - mean_absolute_error: 0.0739 - val_loss: 0.9317 - val_mean_absolute_error: 0.7572\n",
      "Epoch 59/60\n",
      "342/342 [==============================] - 10s 31ms/step - loss: 0.0087 - mean_absolute_error: 0.0743 - val_loss: 0.9226 - val_mean_absolute_error: 0.7489\n",
      "Epoch 60/60\n",
      "342/342 [==============================] - 10s 30ms/step - loss: 0.0084 - mean_absolute_error: 0.0729 - val_loss: 0.9326 - val_mean_absolute_error: 0.7578\n"
     ]
    }
   ],
   "source": [
    "BS = 512     #[64, 128, 256, 512, 1024, 2048]  # try at least 3 values\n",
    "EP = 60       #[5, 10, 20, 50, 60]              # try at least 3 values\n",
    "\n",
    "history = model.fit(x=[df_train.userId, df_train.movieId], y=df_train.rating, batch_size=BS, epochs=EP, verbose=1, validation_data=([df_val.userId, df_val.movieId], df_val.rating))"
   ]
  },
  {
   "cell_type": "markdown",
   "metadata": {},
   "source": [
    "***Training Model***"
   ]
  },
  {
   "cell_type": "markdown",
   "metadata": {},
   "source": [
    "## 11.3 Model Performance Evaluation"
   ]
  },
  {
   "cell_type": "code",
   "execution_count": 29,
   "metadata": {},
   "outputs": [
    {
     "data": {
      "text/plain": [
       "[<matplotlib.lines.Line2D at 0x2842f9600>]"
      ]
     },
     "execution_count": 29,
     "metadata": {},
     "output_type": "execute_result"
    },
    {
     "data": {
      "image/png": "[encoded data removed]",
      "text/plain": [
       "<Figure size 432x288 with 1 Axes>"
      ]
     },
     "metadata": {
      "needs_background": "light"
     },
     "output_type": "display_data"
    }
   ],
   "source": [
    "plt.plot(history.history[\"mean_absolute_error\"])\n",
    "plt.plot(history.history[\"val_mean_absolute_error\"])"
   ]
  },
  {
   "cell_type": "code",
   "execution_count": 30,
   "metadata": {},
   "outputs": [
    {
     "data": {
      "text/plain": [
       "[<matplotlib.lines.Line2D at 0x282f0d270>]"
      ]
     },
     "execution_count": 30,
     "metadata": {},
     "output_type": "execute_result"
    },
    {
     "data": {
      "image/png": "[encoded data removed]",
      "text/plain": [
       "<Figure size 432x288 with 1 Axes>"
      ]
     },
     "metadata": {
      "needs_background": "light"
     },
     "output_type": "display_data"
    }
   ],
   "source": [
    "\n",
    "plt.plot(history.history[\"loss\"])\n",
    "plt.plot(history.history[\"val_loss\"])"
   ]
  },
  {
   "cell_type": "markdown",
   "metadata": {},
   "source": [
    "***Visualize loss***"
   ]
  },
  {
   "cell_type": "code",
   "execution_count": 28,
   "metadata": {},
   "outputs": [],
   "source": [
    "# userPredictR = pd.DataFrame(model.predict([df_val.userId, df_val.movieId]))"
   ]
  },
  {
   "cell_type": "markdown",
   "metadata": {},
   "source": [
    "***Model Prediction***"
   ]
  }
 ],
 "metadata": {
  "kernelspec": {
   "display_name": "Python 3.10.4 64-bit",
   "language": "python",
   "name": "python3"
  },
  "language_info": {
   "codemirror_mode": {
    "name": "ipython",
    "version": 3
   },
   "file_extension": ".py",
   "mimetype": "text/x-python",
   "name": "python",
   "nbconvert_exporter": "python",
   "pygments_lexer": "ipython3",
   "version": "3.10.4"
  },
  "orig_nbformat": 4,
  "vscode": {
   "interpreter": {
    "hash": "aee8b7b246df8f9039afb4144a1f6fd8d2ca17a180786b69acc140d282b71a49"
   }
  }
 },
 "nbformat": 4,
 "nbformat_minor": 2
}
