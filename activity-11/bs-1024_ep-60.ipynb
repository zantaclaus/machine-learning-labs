{
 "cells": [
  {
   "cell_type": "code",
   "execution_count": 1,
   "metadata": {},
   "outputs": [],
   "source": [
    "import numpy as np\n",
    "import pandas as pd\n",
    "import matplotlib.pyplot as plt\n",
    "import tensorflow as tf\n",
    "from tensorflow import keras\n",
    "from tensorflow.keras.models import Model\n",
    "from tensorflow.keras import Input\n",
    "from tensorflow.keras.layers import Embedding\n",
    "from tensorflow.keras.layers import Flatten, Dense\n",
    "from tensorflow.keras.optimizers import Adam\n",
    "from sklearn.model_selection import train_test_split"
   ]
  },
  {
   "cell_type": "markdown",
   "metadata": {},
   "source": [
    "## 11.1 Data Preparation"
   ]
  },
  {
   "cell_type": "code",
   "execution_count": 2,
   "metadata": {},
   "outputs": [],
   "source": [
    "df_R = pd.read_csv('ratings.csv')\n",
    "df_M = pd.read_csv('movies.csv')"
   ]
  },
  {
   "cell_type": "markdown",
   "metadata": {},
   "source": [
    "***Read data from 2 files***"
   ]
  },
  {
   "cell_type": "code",
   "execution_count": 3,
   "metadata": {},
   "outputs": [],
   "source": [
    "df = pd.merge(df_R,df_M)"
   ]
  },
  {
   "cell_type": "markdown",
   "metadata": {},
   "source": [
    "***Join dataframe rating and movie***"
   ]
  },
  {
   "cell_type": "code",
   "execution_count": 4,
   "metadata": {},
   "outputs": [
    {
     "data": {
      "text/html": [
       "<div>\n",
       "<style scoped>\n",
       "    .dataframe tbody tr th:only-of-type {\n",
       "        vertical-align: middle;\n",
       "    }\n",
       "\n",
       "    .dataframe tbody tr th {\n",
       "        vertical-align: top;\n",
       "    }\n",
       "\n",
       "    .dataframe thead th {\n",
       "        text-align: right;\n",
       "    }\n",
       "</style>\n",
       "<table border=\"1\" class=\"dataframe\">\n",
       "  <thead>\n",
       "    <tr style=\"text-align: right;\">\n",
       "      <th></th>\n",
       "      <th>userId</th>\n",
       "      <th>movieId</th>\n",
       "      <th>rating</th>\n",
       "      <th>timestamp</th>\n",
       "      <th>title</th>\n",
       "      <th>genres</th>\n",
       "    </tr>\n",
       "  </thead>\n",
       "  <tbody>\n",
       "    <tr>\n",
       "      <th>0</th>\n",
       "      <td>1</td>\n",
       "      <td>296</td>\n",
       "      <td>5.0</td>\n",
       "      <td>1147880044</td>\n",
       "      <td>Pulp Fiction (1994)</td>\n",
       "      <td>Comedy|Crime|Drama|Thriller</td>\n",
       "    </tr>\n",
       "    <tr>\n",
       "      <th>1</th>\n",
       "      <td>3</td>\n",
       "      <td>296</td>\n",
       "      <td>5.0</td>\n",
       "      <td>1439474476</td>\n",
       "      <td>Pulp Fiction (1994)</td>\n",
       "      <td>Comedy|Crime|Drama|Thriller</td>\n",
       "    </tr>\n",
       "    <tr>\n",
       "      <th>2</th>\n",
       "      <td>4</td>\n",
       "      <td>296</td>\n",
       "      <td>4.0</td>\n",
       "      <td>1573938898</td>\n",
       "      <td>Pulp Fiction (1994)</td>\n",
       "      <td>Comedy|Crime|Drama|Thriller</td>\n",
       "    </tr>\n",
       "    <tr>\n",
       "      <th>3</th>\n",
       "      <td>5</td>\n",
       "      <td>296</td>\n",
       "      <td>4.0</td>\n",
       "      <td>830786155</td>\n",
       "      <td>Pulp Fiction (1994)</td>\n",
       "      <td>Comedy|Crime|Drama|Thriller</td>\n",
       "    </tr>\n",
       "    <tr>\n",
       "      <th>4</th>\n",
       "      <td>7</td>\n",
       "      <td>296</td>\n",
       "      <td>4.0</td>\n",
       "      <td>835444730</td>\n",
       "      <td>Pulp Fiction (1994)</td>\n",
       "      <td>Comedy|Crime|Drama|Thriller</td>\n",
       "    </tr>\n",
       "    <tr>\n",
       "      <th>...</th>\n",
       "      <td>...</td>\n",
       "      <td>...</td>\n",
       "      <td>...</td>\n",
       "      <td>...</td>\n",
       "      <td>...</td>\n",
       "      <td>...</td>\n",
       "    </tr>\n",
       "    <tr>\n",
       "      <th>25000090</th>\n",
       "      <td>162358</td>\n",
       "      <td>200192</td>\n",
       "      <td>2.0</td>\n",
       "      <td>1553453039</td>\n",
       "      <td>Den frusna leoparden (1986)</td>\n",
       "      <td>(no genres listed)</td>\n",
       "    </tr>\n",
       "    <tr>\n",
       "      <th>25000091</th>\n",
       "      <td>162358</td>\n",
       "      <td>200194</td>\n",
       "      <td>2.0</td>\n",
       "      <td>1553453843</td>\n",
       "      <td>Tough Luck (2004)</td>\n",
       "      <td>Action|Adventure|Thriller</td>\n",
       "    </tr>\n",
       "    <tr>\n",
       "      <th>25000092</th>\n",
       "      <td>162386</td>\n",
       "      <td>139970</td>\n",
       "      <td>3.5</td>\n",
       "      <td>1549215965</td>\n",
       "      <td>I Don't Speak English (1995)</td>\n",
       "      <td>Comedy</td>\n",
       "    </tr>\n",
       "    <tr>\n",
       "      <th>25000093</th>\n",
       "      <td>162386</td>\n",
       "      <td>200726</td>\n",
       "      <td>4.0</td>\n",
       "      <td>1554651417</td>\n",
       "      <td>The Graduates (1995)</td>\n",
       "      <td>Children|Drama</td>\n",
       "    </tr>\n",
       "    <tr>\n",
       "      <th>25000094</th>\n",
       "      <td>162386</td>\n",
       "      <td>200728</td>\n",
       "      <td>4.0</td>\n",
       "      <td>1554651472</td>\n",
       "      <td>Il pesce innamorato (1999)</td>\n",
       "      <td>(no genres listed)</td>\n",
       "    </tr>\n",
       "  </tbody>\n",
       "</table>\n",
       "<p>25000095 rows × 6 columns</p>\n",
       "</div>"
      ],
      "text/plain": [
       "          userId  movieId  rating   timestamp                         title  \\\n",
       "0              1      296     5.0  1147880044           Pulp Fiction (1994)   \n",
       "1              3      296     5.0  1439474476           Pulp Fiction (1994)   \n",
       "2              4      296     4.0  1573938898           Pulp Fiction (1994)   \n",
       "3              5      296     4.0   830786155           Pulp Fiction (1994)   \n",
       "4              7      296     4.0   835444730           Pulp Fiction (1994)   \n",
       "...          ...      ...     ...         ...                           ...   \n",
       "25000090  162358   200192     2.0  1553453039   Den frusna leoparden (1986)   \n",
       "25000091  162358   200194     2.0  1553453843             Tough Luck (2004)   \n",
       "25000092  162386   139970     3.5  1549215965  I Don't Speak English (1995)   \n",
       "25000093  162386   200726     4.0  1554651417          The Graduates (1995)   \n",
       "25000094  162386   200728     4.0  1554651472    Il pesce innamorato (1999)   \n",
       "\n",
       "                               genres  \n",
       "0         Comedy|Crime|Drama|Thriller  \n",
       "1         Comedy|Crime|Drama|Thriller  \n",
       "2         Comedy|Crime|Drama|Thriller  \n",
       "3         Comedy|Crime|Drama|Thriller  \n",
       "4         Comedy|Crime|Drama|Thriller  \n",
       "...                               ...  \n",
       "25000090           (no genres listed)  \n",
       "25000091    Action|Adventure|Thriller  \n",
       "25000092                       Comedy  \n",
       "25000093               Children|Drama  \n",
       "25000094           (no genres listed)  \n",
       "\n",
       "[25000095 rows x 6 columns]"
      ]
     },
     "execution_count": 4,
     "metadata": {},
     "output_type": "execute_result"
    }
   ],
   "source": [
    "df"
   ]
  },
  {
   "cell_type": "code",
   "execution_count": 5,
   "metadata": {},
   "outputs": [],
   "source": [
    "df_train, df_val = train_test_split(df, train_size=0.007, test_size=0.003, stratify=df['rating'])"
   ]
  },
  {
   "cell_type": "markdown",
   "metadata": {},
   "source": [
    "***Preapare Train, validation data***"
   ]
  },
  {
   "cell_type": "code",
   "execution_count": 6,
   "metadata": {},
   "outputs": [],
   "source": [
    "userId_list = list(set(df['userId']))\n",
    "index = 0\n",
    "dict_users = {}\n",
    "for ids in sorted(userId_list):\n",
    "    dict_users.update({ids : index})\n",
    "    index += 1"
   ]
  },
  {
   "cell_type": "markdown",
   "metadata": {},
   "source": [
    "***Re-numbering userId ( to eliminate skipping id)***"
   ]
  },
  {
   "cell_type": "code",
   "execution_count": 7,
   "metadata": {},
   "outputs": [],
   "source": [
    "movieId_list = list(set(df['movieId']))\n",
    "index = 0\n",
    "dict_movies = {}\n",
    "for ids in sorted(movieId_list):\n",
    "    dict_movies.update ({ids : index})\n",
    "    index += 1"
   ]
  },
  {
   "cell_type": "markdown",
   "metadata": {},
   "source": [
    "***Re-numbering movieId***"
   ]
  },
  {
   "cell_type": "code",
   "execution_count": 8,
   "metadata": {},
   "outputs": [],
   "source": [
    "df_train[\"userId\"] = df_train[\"userId\"].map(dict_users)\n",
    "df_train[\"movieId\"] = df_train[\"movieId\"].map(dict_movies)\n",
    "df_val[\"userId\"] = df_val[\"userId\"].map(dict_users)\n",
    "df_val[\"movieId\"] = df_val[\"movieId\"].map(dict_movies)"
   ]
  },
  {
   "cell_type": "markdown",
   "metadata": {},
   "source": [
    "***Map new id to train, validation for both “userId”, “movieId”***"
   ]
  },
  {
   "cell_type": "code",
   "execution_count": 9,
   "metadata": {},
   "outputs": [],
   "source": [
    "num_unique_users = len(userId_list)\n",
    "num_unique_movies = len(movieId_list)"
   ]
  },
  {
   "cell_type": "markdown",
   "metadata": {},
   "source": [
    "## 1.2 Model Preparation and Training"
   ]
  },
  {
   "cell_type": "code",
   "execution_count": 10,
   "metadata": {},
   "outputs": [
    {
     "name": "stdout",
     "output_type": "stream",
     "text": [
      "Metal device set to: Apple M1 Pro\n",
      "\n",
      "systemMemory: 16.00 GB\n",
      "maxCacheSize: 5.33 GB\n",
      "\n"
     ]
    },
    {
     "name": "stderr",
     "output_type": "stream",
     "text": [
      "2022-11-24 15:57:49.617251: I tensorflow/core/common_runtime/pluggable_device/pluggable_device_factory.cc:306] Could not identify NUMA node of platform GPU ID 0, defaulting to 0. Your kernel may not have been built with NUMA support.\n",
      "2022-11-24 15:57:49.617597: I tensorflow/core/common_runtime/pluggable_device/pluggable_device_factory.cc:272] Created TensorFlow device (/job:localhost/replica:0/task:0/device:GPU:0 with 0 MB memory) -> physical PluggableDevice (device: 0, name: METAL, pci bus id: <undefined>)\n",
      "/Library/Frameworks/Python.framework/Versions/3.10/lib/python3.10/site-packages/keras/optimizers/optimizer_v2/adam.py:114: UserWarning: The `lr` argument is deprecated, use `learning_rate` instead.\n",
      "  super().__init__(name, **kwargs)\n"
     ]
    }
   ],
   "source": [
    "EMBEDDING_SIZE=100\n",
    "users_input = Input(shape=(1,), name=\"users_input\")\n",
    "users_embedding = Embedding(num_unique_users + 1, EMBEDDING_SIZE,name=\"users_embeddings\")(users_input)\n",
    "users_bias = Embedding(num_unique_users + 1, 1, name=\"users_bias\")(users_input)\n",
    "\n",
    "movies_input = Input(shape=(1,), name=\"movies_input\")\n",
    "movies_embedding = Embedding(num_unique_movies + 1, EMBEDDING_SIZE,name=\"movies_embeddings\")(movies_input)\n",
    "movies_bias = Embedding(num_unique_movies + 1, 1, name=\"movies_bias\")(movies_input)\n",
    "\n",
    "dot_product_users_movies = tf.math.multiply(users_embedding, movies_embedding)\n",
    "input_terms = dot_product_users_movies + users_bias + movies_bias\n",
    "input_terms = Flatten(name=\"fl_inputs\")(input_terms)\n",
    "output = Dense(1, activation=\"relu\", name=\"output\")(input_terms)\n",
    "model = Model(inputs=[users_input, movies_input], outputs=output)\n",
    "\n",
    "opt_adam = Adam(lr = 0.005)\n",
    "model.compile(optimizer=opt_adam, loss= ['mse'], metrics=['mean_absolute_error'])"
   ]
  },
  {
   "cell_type": "markdown",
   "metadata": {},
   "source": [
    "***Create Model NCF***"
   ]
  },
  {
   "cell_type": "code",
   "execution_count": 11,
   "metadata": {},
   "outputs": [
    {
     "name": "stdout",
     "output_type": "stream",
     "text": [
      "Model: \"model\"\n",
      "__________________________________________________________________________________________________\n",
      " Layer (type)                   Output Shape         Param #     Connected to                     \n",
      "==================================================================================================\n",
      " users_input (InputLayer)       [(None, 1)]          0           []                               \n",
      "                                                                                                  \n",
      " movies_input (InputLayer)      [(None, 1)]          0           []                               \n",
      "                                                                                                  \n",
      " users_embeddings (Embedding)   (None, 1, 100)       16254200    ['users_input[0][0]']            \n",
      "                                                                                                  \n",
      " movies_embeddings (Embedding)  (None, 1, 100)       5904800     ['movies_input[0][0]']           \n",
      "                                                                                                  \n",
      " tf.math.multiply (TFOpLambda)  (None, 1, 100)       0           ['users_embeddings[0][0]',       \n",
      "                                                                  'movies_embeddings[0][0]']      \n",
      "                                                                                                  \n",
      " users_bias (Embedding)         (None, 1, 1)         162542      ['users_input[0][0]']            \n",
      "                                                                                                  \n",
      " tf.__operators__.add (TFOpLamb  (None, 1, 100)      0           ['tf.math.multiply[0][0]',       \n",
      " da)                                                              'users_bias[0][0]']             \n",
      "                                                                                                  \n",
      " movies_bias (Embedding)        (None, 1, 1)         59048       ['movies_input[0][0]']           \n",
      "                                                                                                  \n",
      " tf.__operators__.add_1 (TFOpLa  (None, 1, 100)      0           ['tf.__operators__.add[0][0]',   \n",
      " mbda)                                                            'movies_bias[0][0]']            \n",
      "                                                                                                  \n",
      " fl_inputs (Flatten)            (None, 100)          0           ['tf.__operators__.add_1[0][0]'] \n",
      "                                                                                                  \n",
      " output (Dense)                 (None, 1)            101         ['fl_inputs[0][0]']              \n",
      "                                                                                                  \n",
      "==================================================================================================\n",
      "Total params: 22,380,691\n",
      "Trainable params: 22,380,691\n",
      "Non-trainable params: 0\n",
      "__________________________________________________________________________________________________\n"
     ]
    }
   ],
   "source": [
    "model.summary()"
   ]
  },
  {
   "cell_type": "markdown",
   "metadata": {},
   "source": [
    "***View Model Summary***"
   ]
  },
  {
   "cell_type": "code",
   "execution_count": 12,
   "metadata": {},
   "outputs": [
    {
     "name": "stdout",
     "output_type": "stream",
     "text": [
      "Epoch 1/60\n"
     ]
    },
    {
     "name": "stderr",
     "output_type": "stream",
     "text": [
      "2022-11-24 15:57:49.907494: W tensorflow/core/platform/profile_utils/cpu_utils.cc:128] Failed to get CPU frequency: 0 Hz\n",
      "2022-11-24 15:57:50.305598: I tensorflow/core/grappler/optimizers/custom_graph_optimizer_registry.cc:114] Plugin optimizer for device_type GPU is enabled.\n"
     ]
    },
    {
     "name": "stdout",
     "output_type": "stream",
     "text": [
      "171/171 [==============================] - ETA: 0s - loss: 3.9452 - mean_absolute_error: 1.5525"
     ]
    },
    {
     "name": "stderr",
     "output_type": "stream",
     "text": [
      "2022-11-24 15:57:57.035007: I tensorflow/core/grappler/optimizers/custom_graph_optimizer_registry.cc:114] Plugin optimizer for device_type GPU is enabled.\n"
     ]
    },
    {
     "name": "stdout",
     "output_type": "stream",
     "text": [
      "171/171 [==============================] - 7s 39ms/step - loss: 3.9452 - mean_absolute_error: 1.5525 - val_loss: 1.6596 - val_mean_absolute_error: 1.0015\n",
      "Epoch 2/60\n",
      "171/171 [==============================] - 6s 34ms/step - loss: 0.9896 - mean_absolute_error: 0.7594 - val_loss: 1.3990 - val_mean_absolute_error: 0.9171\n",
      "Epoch 3/60\n",
      "171/171 [==============================] - 5s 31ms/step - loss: 0.4961 - mean_absolute_error: 0.5224 - val_loss: 1.3599 - val_mean_absolute_error: 0.9025\n",
      "Epoch 4/60\n",
      "171/171 [==============================] - 6s 32ms/step - loss: 0.2224 - mean_absolute_error: 0.3467 - val_loss: 1.3437 - val_mean_absolute_error: 0.9005\n",
      "Epoch 5/60\n",
      "171/171 [==============================] - 6s 32ms/step - loss: 0.1447 - mean_absolute_error: 0.2761 - val_loss: 1.3326 - val_mean_absolute_error: 0.8973\n",
      "Epoch 6/60\n",
      "171/171 [==============================] - 5s 32ms/step - loss: 0.1138 - mean_absolute_error: 0.2396 - val_loss: 1.3120 - val_mean_absolute_error: 0.8926\n",
      "Epoch 7/60\n",
      "171/171 [==============================] - 6s 33ms/step - loss: 0.0854 - mean_absolute_error: 0.2041 - val_loss: 1.2979 - val_mean_absolute_error: 0.8874\n",
      "Epoch 8/60\n",
      "171/171 [==============================] - 6s 32ms/step - loss: 0.0628 - mean_absolute_error: 0.1737 - val_loss: 1.2821 - val_mean_absolute_error: 0.8824\n",
      "Epoch 9/60\n",
      "171/171 [==============================] - 5s 31ms/step - loss: 0.0481 - mean_absolute_error: 0.1514 - val_loss: 1.2821 - val_mean_absolute_error: 0.8841\n",
      "Epoch 10/60\n",
      "171/171 [==============================] - 5s 31ms/step - loss: 0.0402 - mean_absolute_error: 0.1390 - val_loss: 1.2699 - val_mean_absolute_error: 0.8791\n",
      "Epoch 11/60\n",
      "171/171 [==============================] - 5s 31ms/step - loss: 0.0375 - mean_absolute_error: 0.1349 - val_loss: 1.2648 - val_mean_absolute_error: 0.8773\n",
      "Epoch 12/60\n",
      "171/171 [==============================] - 5s 31ms/step - loss: 0.0370 - mean_absolute_error: 0.1366 - val_loss: 1.2591 - val_mean_absolute_error: 0.8763\n",
      "Epoch 13/60\n",
      "171/171 [==============================] - 5s 31ms/step - loss: 0.0391 - mean_absolute_error: 0.1426 - val_loss: 1.2518 - val_mean_absolute_error: 0.8740\n",
      "Epoch 14/60\n",
      "171/171 [==============================] - 5s 31ms/step - loss: 0.0412 - mean_absolute_error: 0.1495 - val_loss: 1.2452 - val_mean_absolute_error: 0.8727\n",
      "Epoch 15/60\n",
      "171/171 [==============================] - 5s 30ms/step - loss: 0.0426 - mean_absolute_error: 0.1547 - val_loss: 1.2350 - val_mean_absolute_error: 0.8693\n",
      "Epoch 16/60\n",
      "171/171 [==============================] - 5s 30ms/step - loss: 0.0425 - mean_absolute_error: 0.1565 - val_loss: 1.2286 - val_mean_absolute_error: 0.8683\n",
      "Epoch 17/60\n",
      "171/171 [==============================] - 5s 31ms/step - loss: 0.0403 - mean_absolute_error: 0.1532 - val_loss: 1.2198 - val_mean_absolute_error: 0.8661\n",
      "Epoch 18/60\n",
      "171/171 [==============================] - 5s 31ms/step - loss: 0.0362 - mean_absolute_error: 0.1458 - val_loss: 1.2022 - val_mean_absolute_error: 0.8594\n",
      "Epoch 19/60\n",
      "171/171 [==============================] - 5s 31ms/step - loss: 0.0325 - mean_absolute_error: 0.1377 - val_loss: 1.1993 - val_mean_absolute_error: 0.8598\n",
      "Epoch 20/60\n",
      "171/171 [==============================] - 5s 32ms/step - loss: 0.0292 - mean_absolute_error: 0.1308 - val_loss: 1.1854 - val_mean_absolute_error: 0.8547\n",
      "Epoch 21/60\n",
      "171/171 [==============================] - 5s 30ms/step - loss: 0.0267 - mean_absolute_error: 0.1251 - val_loss: 1.1773 - val_mean_absolute_error: 0.8522\n",
      "Epoch 22/60\n",
      "171/171 [==============================] - 5s 29ms/step - loss: 0.0249 - mean_absolute_error: 0.1208 - val_loss: 1.1683 - val_mean_absolute_error: 0.8495\n",
      "Epoch 23/60\n",
      "171/171 [==============================] - 5s 30ms/step - loss: 0.0239 - mean_absolute_error: 0.1183 - val_loss: 1.1535 - val_mean_absolute_error: 0.8421\n",
      "Epoch 24/60\n",
      "171/171 [==============================] - 5s 29ms/step - loss: 0.0231 - mean_absolute_error: 0.1166 - val_loss: 1.1528 - val_mean_absolute_error: 0.8446\n",
      "Epoch 25/60\n",
      "171/171 [==============================] - 5s 31ms/step - loss: 0.0225 - mean_absolute_error: 0.1153 - val_loss: 1.1411 - val_mean_absolute_error: 0.8392\n",
      "Epoch 26/60\n",
      "171/171 [==============================] - 5s 31ms/step - loss: 0.0218 - mean_absolute_error: 0.1138 - val_loss: 1.1348 - val_mean_absolute_error: 0.8384\n",
      "Epoch 27/60\n",
      "171/171 [==============================] - 5s 30ms/step - loss: 0.0212 - mean_absolute_error: 0.1125 - val_loss: 1.1247 - val_mean_absolute_error: 0.8337\n",
      "Epoch 28/60\n",
      "171/171 [==============================] - 6s 33ms/step - loss: 0.0207 - mean_absolute_error: 0.1112 - val_loss: 1.1115 - val_mean_absolute_error: 0.8286\n",
      "Epoch 29/60\n",
      "171/171 [==============================] - 5s 32ms/step - loss: 0.0202 - mean_absolute_error: 0.1099 - val_loss: 1.1057 - val_mean_absolute_error: 0.8272\n",
      "Epoch 30/60\n",
      "171/171 [==============================] - 5s 32ms/step - loss: 0.0194 - mean_absolute_error: 0.1081 - val_loss: 1.0971 - val_mean_absolute_error: 0.8239\n",
      "Epoch 31/60\n",
      "171/171 [==============================] - 5s 32ms/step - loss: 0.0185 - mean_absolute_error: 0.1060 - val_loss: 1.0843 - val_mean_absolute_error: 0.8178\n",
      "Epoch 32/60\n",
      "171/171 [==============================] - 5s 32ms/step - loss: 0.0176 - mean_absolute_error: 0.1037 - val_loss: 1.0817 - val_mean_absolute_error: 0.8185\n",
      "Epoch 33/60\n",
      "171/171 [==============================] - 5s 32ms/step - loss: 0.0167 - mean_absolute_error: 0.1011 - val_loss: 1.0766 - val_mean_absolute_error: 0.8177\n",
      "Epoch 34/60\n",
      "171/171 [==============================] - 6s 33ms/step - loss: 0.0161 - mean_absolute_error: 0.0994 - val_loss: 1.0705 - val_mean_absolute_error: 0.8159\n",
      "Epoch 35/60\n",
      "171/171 [==============================] - 6s 33ms/step - loss: 0.0156 - mean_absolute_error: 0.0977 - val_loss: 1.0627 - val_mean_absolute_error: 0.8127\n",
      "Epoch 36/60\n",
      "171/171 [==============================] - 6s 34ms/step - loss: 0.0150 - mean_absolute_error: 0.0956 - val_loss: 1.0574 - val_mean_absolute_error: 0.8112\n",
      "Epoch 37/60\n",
      "171/171 [==============================] - 6s 34ms/step - loss: 0.0145 - mean_absolute_error: 0.0945 - val_loss: 1.0512 - val_mean_absolute_error: 0.8091\n",
      "Epoch 38/60\n",
      "171/171 [==============================] - 5s 31ms/step - loss: 0.0143 - mean_absolute_error: 0.0939 - val_loss: 1.0427 - val_mean_absolute_error: 0.8054\n",
      "Epoch 39/60\n",
      "171/171 [==============================] - 5s 31ms/step - loss: 0.0139 - mean_absolute_error: 0.0927 - val_loss: 1.0317 - val_mean_absolute_error: 0.7989\n",
      "Epoch 40/60\n",
      "171/171 [==============================] - 5s 30ms/step - loss: 0.0133 - mean_absolute_error: 0.0908 - val_loss: 1.0266 - val_mean_absolute_error: 0.7977\n",
      "Epoch 41/60\n",
      "171/171 [==============================] - 5s 30ms/step - loss: 0.0128 - mean_absolute_error: 0.0890 - val_loss: 1.0194 - val_mean_absolute_error: 0.7936\n",
      "Epoch 42/60\n",
      "171/171 [==============================] - 5s 29ms/step - loss: 0.0130 - mean_absolute_error: 0.0896 - val_loss: 1.0217 - val_mean_absolute_error: 0.7975\n",
      "Epoch 43/60\n",
      "171/171 [==============================] - 5s 31ms/step - loss: 0.0132 - mean_absolute_error: 0.0903 - val_loss: 1.0136 - val_mean_absolute_error: 0.7937\n",
      "Epoch 44/60\n",
      "171/171 [==============================] - 6s 32ms/step - loss: 0.0126 - mean_absolute_error: 0.0884 - val_loss: 1.0097 - val_mean_absolute_error: 0.7921\n",
      "Epoch 45/60\n",
      "171/171 [==============================] - 5s 31ms/step - loss: 0.0120 - mean_absolute_error: 0.0863 - val_loss: 1.0056 - val_mean_absolute_error: 0.7910\n",
      "Epoch 46/60\n",
      "171/171 [==============================] - 5s 30ms/step - loss: 0.0113 - mean_absolute_error: 0.0835 - val_loss: 1.0022 - val_mean_absolute_error: 0.7896\n",
      "Epoch 47/60\n",
      "171/171 [==============================] - 5s 30ms/step - loss: 0.0109 - mean_absolute_error: 0.0818 - val_loss: 0.9975 - val_mean_absolute_error: 0.7880\n",
      "Epoch 48/60\n",
      "171/171 [==============================] - 5s 30ms/step - loss: 0.0106 - mean_absolute_error: 0.0811 - val_loss: 0.9930 - val_mean_absolute_error: 0.7856\n",
      "Epoch 49/60\n",
      "171/171 [==============================] - 5s 30ms/step - loss: 0.0107 - mean_absolute_error: 0.0814 - val_loss: 0.9883 - val_mean_absolute_error: 0.7830\n",
      "Epoch 50/60\n",
      "171/171 [==============================] - 5s 30ms/step - loss: 0.0104 - mean_absolute_error: 0.0802 - val_loss: 0.9848 - val_mean_absolute_error: 0.7821\n",
      "Epoch 51/60\n",
      "171/171 [==============================] - 5s 31ms/step - loss: 0.0101 - mean_absolute_error: 0.0792 - val_loss: 0.9860 - val_mean_absolute_error: 0.7837\n",
      "Epoch 52/60\n",
      "171/171 [==============================] - 5s 30ms/step - loss: 0.0101 - mean_absolute_error: 0.0793 - val_loss: 0.9775 - val_mean_absolute_error: 0.7782\n",
      "Epoch 53/60\n",
      "171/171 [==============================] - 5s 31ms/step - loss: 0.0101 - mean_absolute_error: 0.0792 - val_loss: 0.9754 - val_mean_absolute_error: 0.7776\n",
      "Epoch 54/60\n",
      "171/171 [==============================] - 5s 32ms/step - loss: 0.0102 - mean_absolute_error: 0.0800 - val_loss: 0.9682 - val_mean_absolute_error: 0.7729\n",
      "Epoch 55/60\n",
      "171/171 [==============================] - 5s 30ms/step - loss: 0.0106 - mean_absolute_error: 0.0813 - val_loss: 0.9680 - val_mean_absolute_error: 0.7736\n",
      "Epoch 56/60\n",
      "171/171 [==============================] - 5s 31ms/step - loss: 0.0102 - mean_absolute_error: 0.0800 - val_loss: 0.9694 - val_mean_absolute_error: 0.7764\n",
      "Epoch 57/60\n",
      "171/171 [==============================] - 6s 32ms/step - loss: 0.0097 - mean_absolute_error: 0.0780 - val_loss: 0.9641 - val_mean_absolute_error: 0.7725\n",
      "Epoch 58/60\n",
      "171/171 [==============================] - 6s 34ms/step - loss: 0.0093 - mean_absolute_error: 0.0762 - val_loss: 0.9599 - val_mean_absolute_error: 0.7703\n",
      "Epoch 59/60\n",
      "171/171 [==============================] - 6s 33ms/step - loss: 0.0087 - mean_absolute_error: 0.0735 - val_loss: 0.9592 - val_mean_absolute_error: 0.7707\n",
      "Epoch 60/60\n",
      "171/171 [==============================] - 6s 33ms/step - loss: 0.0083 - mean_absolute_error: 0.0720 - val_loss: 0.9591 - val_mean_absolute_error: 0.7711\n"
     ]
    }
   ],
   "source": [
    "BS = 1024     #[64, 128, 256, 512, 1024, 2048]  # try at least 3 values\n",
    "EP = 60       #[5, 10, 20, 50, 60]              # try at least 3 values\n",
    "\n",
    "history = model.fit(x=[df_train.userId, df_train.movieId], y=df_train.rating, batch_size=BS, epochs=EP, verbose=1, validation_data=([df_val.userId, df_val.movieId], df_val.rating))"
   ]
  },
  {
   "cell_type": "markdown",
   "metadata": {},
   "source": [
    "***Training Model***"
   ]
  },
  {
   "cell_type": "markdown",
   "metadata": {},
   "source": [
    "## 11.3 Model Performance Evaluation"
   ]
  },
  {
   "cell_type": "code",
   "execution_count": 13,
   "metadata": {},
   "outputs": [
    {
     "data": {
      "text/plain": [
       "[<matplotlib.lines.Line2D at 0x39f9de620>]"
      ]
     },
     "execution_count": 13,
     "metadata": {},
     "output_type": "execute_result"
    },
    {
     "data": {
      "image/png": "[encoded data removed]",
      "text/plain": [
       "<Figure size 432x288 with 1 Axes>"
      ]
     },
     "metadata": {
      "needs_background": "light"
     },
     "output_type": "display_data"
    }
   ],
   "source": [
    "plt.plot(history.history[\"mean_absolute_error\"])\n",
    "plt.plot(history.history[\"val_mean_absolute_error\"])"
   ]
  },
  {
   "cell_type": "code",
   "execution_count": 14,
   "metadata": {},
   "outputs": [
    {
     "data": {
      "text/plain": [
       "[<matplotlib.lines.Line2D at 0x29bace2c0>]"
      ]
     },
     "execution_count": 14,
     "metadata": {},
     "output_type": "execute_result"
    },
    {
     "data": {
      "image/png": "[encoded data removed]",
      "text/plain": [
       "<Figure size 432x288 with 1 Axes>"
      ]
     },
     "metadata": {
      "needs_background": "light"
     },
     "output_type": "display_data"
    }
   ],
   "source": [
    "plt.plot(history.history[\"loss\"])\n",
    "plt.plot(history.history[\"val_loss\"])"
   ]
  },
  {
   "cell_type": "markdown",
   "metadata": {},
   "source": [
    "***Visualize loss***"
   ]
  },
  {
   "cell_type": "code",
   "execution_count": 15,
   "metadata": {},
   "outputs": [],
   "source": [
    "# userPredictR = pd.DataFrame(model.predict([df_val.userId, df_val.movieId]))"
   ]
  },
  {
   "cell_type": "markdown",
   "metadata": {},
   "source": [
    "***Model Prediction***"
   ]
  }
 ],
 "metadata": {
  "kernelspec": {
   "display_name": "Python 3.10.4 64-bit",
   "language": "python",
   "name": "python3"
  },
  "language_info": {
   "codemirror_mode": {
    "name": "ipython",
    "version": 3
   },
   "file_extension": ".py",
   "mimetype": "text/x-python",
   "name": "python",
   "nbconvert_exporter": "python",
   "pygments_lexer": "ipython3",
   "version": "3.10.4"
  },
  "orig_nbformat": 4,
  "vscode": {
   "interpreter": {
    "hash": "aee8b7b246df8f9039afb4144a1f6fd8d2ca17a180786b69acc140d282b71a49"
   }
  }
 },
 "nbformat": 4,
 "nbformat_minor": 2
}
