{
 "cells": [
  {
   "cell_type": "code",
   "execution_count": 372,
   "metadata": {},
   "outputs": [],
   "source": [
    "import numpy as np\n",
    "import pandas as pd\n",
    "import matplotlib.pyplot as plt\n",
    "from sklearn.preprocessing import StandardScaler\n",
    "from sklearn.model_selection import train_test_split, cross_val_score, StratifiedKFold\n",
    "from sklearn.svm import SVC\n",
    "from sklearn import metrics\n",
    "from sklearn.model_selection import GridSearchCV, RandomizedSearchCV\n",
    "from sklearn.metrics import accuracy_score, classification_report, confusion_matrix\n",
    "import glob\n",
    "from scipy import stats\n",
    "import datetime as dt\n",
    "from sklearn.neural_network import MLPClassifier\n",
    "\n",
    "from tensorflow.keras.regularizers import l1,l2,l1_l2\n",
    "from tensorflow.keras import Sequential\n",
    "from tensorflow.keras.layers import MaxPooling2D,Dropout,Flatten,Dense,Conv2D\n",
    "import tensorflow as tf\n",
    "\n",
    "# import warnings\n",
    "# warnings.filterwarnings('ignore')"
   ]
  },
  {
   "cell_type": "markdown",
   "metadata": {},
   "source": [
    "## 9.1 Data Preparation"
   ]
  },
  {
   "cell_type": "markdown",
   "metadata": {},
   "source": [
    "#### (a) Load and Prepare Data"
   ]
  },
  {
   "cell_type": "code",
   "execution_count": 373,
   "metadata": {},
   "outputs": [],
   "source": [
    "# Load data from csv 3 files\n",
    "# acceleration.txt, heartrate.txt, labeled_sleep.txt\n",
    "\n",
    "ACC    = pd.read_csv('acceleration.txt', sep = ' ', names=['timedelta', 'accX', 'accY', 'accZ'])\n",
    "HeartR = pd.read_csv('heartrate.txt', sep = ',', names=['timedelta', 'heartrate'])\n",
    "SleepL = pd.read_csv('labeled_sleep.txt', sep = ' ', names=['timedelta', 'sleep'])"
   ]
  },
  {
   "cell_type": "code",
   "execution_count": 374,
   "metadata": {},
   "outputs": [],
   "source": [
    "# Check 'timedelta' max(), min() of ACC, HeartR, SleepL (ช่วงเวลาที่มีข้อมูลใกล้กัน)\n",
    "\n",
    "ACC_max_date = ACC['timedelta'].max()\n",
    "ACC_min_date = ACC['timedelta'].min()\n",
    "\n",
    "HeartR_max = HeartR['timedelta'].max()\n",
    "HeartR_min = HeartR['timedelta'].min()\n",
    "\n",
    "SleepL_max = SleepL['timedelta'].max()\n",
    "SleepL_min = SleepL['timedelta'].min()"
   ]
  },
  {
   "cell_type": "code",
   "execution_count": 375,
   "metadata": {},
   "outputs": [
    {
     "name": "stdout",
     "output_type": "stream",
     "text": [
      "ACC start: -124489.16105 ACC end: 17643.046417\n",
      "HeartR start: -556410.36066 HeartR end: 16980.47229\n",
      "SleepL start: 0 SLeepL end: 16980\n"
     ]
    }
   ],
   "source": [
    "print(f'ACC start: {ACC_min_date} ACC end: {ACC_max_date}')\n",
    "print(f'HeartR start: {HeartR_min} HeartR end: {HeartR_max}')\n",
    "print(f'SleepL start: {SleepL_min} SLeepL end: {SleepL_max}')"
   ]
  },
  {
   "cell_type": "code",
   "execution_count": 376,
   "metadata": {},
   "outputs": [],
   "source": [
    " # select only intersected timedelta (ACC, HeartR, SleepL) (ช่วงเวลาที่มีข้อมูลใกล้กัน) #เลือกขอบ\n",
    "ACC_new = ACC[(ACC['timedelta'] > SleepL_min) & (ACC['timedelta'] < SleepL_max)]\n",
    "HeartR_new = HeartR[(HeartR['timedelta']> SleepL_min) & HeartR['timedelta']< SleepL_max]\n",
    "SleepL_new = SleepL[(SleepL['timedelta']> SleepL_min) & SleepL['timedelta']< SleepL_max]"
   ]
  },
  {
   "cell_type": "markdown",
   "metadata": {},
   "source": [
    "#### (b) Load and Prepare Data (ACC)"
   ]
  },
  {
   "cell_type": "code",
   "execution_count": 377,
   "metadata": {},
   "outputs": [
    {
     "data": {
      "text/html": [
       "<div>\n",
       "<style scoped>\n",
       "    .dataframe tbody tr th:only-of-type {\n",
       "        vertical-align: middle;\n",
       "    }\n",
       "\n",
       "    .dataframe tbody tr th {\n",
       "        vertical-align: top;\n",
       "    }\n",
       "\n",
       "    .dataframe thead th {\n",
       "        text-align: right;\n",
       "    }\n",
       "</style>\n",
       "<table border=\"1\" class=\"dataframe\">\n",
       "  <thead>\n",
       "    <tr style=\"text-align: right;\">\n",
       "      <th></th>\n",
       "      <th>timedelta</th>\n",
       "      <th>accX</th>\n",
       "      <th>accY</th>\n",
       "      <th>accZ</th>\n",
       "    </tr>\n",
       "  </thead>\n",
       "  <tbody>\n",
       "    <tr>\n",
       "      <th>98777</th>\n",
       "      <td>0 days 00:00:00</td>\n",
       "      <td>-0.234650</td>\n",
       "      <td>0.905975</td>\n",
       "      <td>0.362747</td>\n",
       "    </tr>\n",
       "    <tr>\n",
       "      <th>98778</th>\n",
       "      <td>0 days 00:00:00</td>\n",
       "      <td>-0.231232</td>\n",
       "      <td>0.893265</td>\n",
       "      <td>0.371613</td>\n",
       "    </tr>\n",
       "    <tr>\n",
       "      <th>98779</th>\n",
       "      <td>0 days 00:00:00</td>\n",
       "      <td>-0.227814</td>\n",
       "      <td>0.915848</td>\n",
       "      <td>0.369049</td>\n",
       "    </tr>\n",
       "    <tr>\n",
       "      <th>98780</th>\n",
       "      <td>0 days 00:00:00</td>\n",
       "      <td>-0.240524</td>\n",
       "      <td>0.919159</td>\n",
       "      <td>0.352890</td>\n",
       "    </tr>\n",
       "    <tr>\n",
       "      <th>98781</th>\n",
       "      <td>0 days 00:00:00</td>\n",
       "      <td>-0.240448</td>\n",
       "      <td>0.889175</td>\n",
       "      <td>0.350143</td>\n",
       "    </tr>\n",
       "    <tr>\n",
       "      <th>...</th>\n",
       "      <td>...</td>\n",
       "      <td>...</td>\n",
       "      <td>...</td>\n",
       "      <td>...</td>\n",
       "    </tr>\n",
       "    <tr>\n",
       "      <th>948796</th>\n",
       "      <td>0 days 04:43:00</td>\n",
       "      <td>-0.442413</td>\n",
       "      <td>-0.527573</td>\n",
       "      <td>0.723450</td>\n",
       "    </tr>\n",
       "    <tr>\n",
       "      <th>948797</th>\n",
       "      <td>0 days 04:43:00</td>\n",
       "      <td>-0.441925</td>\n",
       "      <td>-0.527573</td>\n",
       "      <td>0.721985</td>\n",
       "    </tr>\n",
       "    <tr>\n",
       "      <th>948798</th>\n",
       "      <td>0 days 04:43:00</td>\n",
       "      <td>-0.441437</td>\n",
       "      <td>-0.526108</td>\n",
       "      <td>0.721985</td>\n",
       "    </tr>\n",
       "    <tr>\n",
       "      <th>948799</th>\n",
       "      <td>0 days 04:43:00</td>\n",
       "      <td>-0.443405</td>\n",
       "      <td>-0.525116</td>\n",
       "      <td>0.723434</td>\n",
       "    </tr>\n",
       "    <tr>\n",
       "      <th>948800</th>\n",
       "      <td>0 days 04:43:00</td>\n",
       "      <td>-0.441925</td>\n",
       "      <td>-0.524628</td>\n",
       "      <td>0.722458</td>\n",
       "    </tr>\n",
       "  </tbody>\n",
       "</table>\n",
       "<p>850024 rows × 4 columns</p>\n",
       "</div>"
      ],
      "text/plain": [
       "             timedelta      accX      accY      accZ\n",
       "98777  0 days 00:00:00 -0.234650  0.905975  0.362747\n",
       "98778  0 days 00:00:00 -0.231232  0.893265  0.371613\n",
       "98779  0 days 00:00:00 -0.227814  0.915848  0.369049\n",
       "98780  0 days 00:00:00 -0.240524  0.919159  0.352890\n",
       "98781  0 days 00:00:00 -0.240448  0.889175  0.350143\n",
       "...                ...       ...       ...       ...\n",
       "948796 0 days 04:43:00 -0.442413 -0.527573  0.723450\n",
       "948797 0 days 04:43:00 -0.441925 -0.527573  0.721985\n",
       "948798 0 days 04:43:00 -0.441437 -0.526108  0.721985\n",
       "948799 0 days 04:43:00 -0.443405 -0.525116  0.723434\n",
       "948800 0 days 04:43:00 -0.441925 -0.524628  0.722458\n",
       "\n",
       "[850024 rows x 4 columns]"
      ]
     },
     "execution_count": 377,
     "metadata": {},
     "output_type": "execute_result"
    }
   ],
   "source": [
    "# Convert to datetime and round to second,\n",
    "# ------------ Rounding ACC (Rounding to 1 sec) -------------------------------\n",
    "ACC_new['timedelta'] = pd.DataFrame(pd.to_timedelta(ACC_new['timedelta'], unit='s').round('1s'))\n",
    "ACC_new"
   ]
  },
  {
   "cell_type": "code",
   "execution_count": 378,
   "metadata": {},
   "outputs": [],
   "source": [
    "# Average rounding duplicated time\n",
    "df_acc_X = ACC_new.groupby('timedelta')['accX'].mean().reset_index()\n",
    "df_acc_Y = ACC_new.groupby('timedelta')['accY'].mean().reset_index()\n",
    "df_acc_Z = ACC_new.groupby('timedelta')['accZ'].mean().reset_index()"
   ]
  },
  {
   "cell_type": "code",
   "execution_count": 379,
   "metadata": {},
   "outputs": [
    {
     "data": {
      "text/html": [
       "<div>\n",
       "<style scoped>\n",
       "    .dataframe tbody tr th:only-of-type {\n",
       "        vertical-align: middle;\n",
       "    }\n",
       "\n",
       "    .dataframe tbody tr th {\n",
       "        vertical-align: top;\n",
       "    }\n",
       "\n",
       "    .dataframe thead th {\n",
       "        text-align: right;\n",
       "    }\n",
       "</style>\n",
       "<table border=\"1\" class=\"dataframe\">\n",
       "  <thead>\n",
       "    <tr style=\"text-align: right;\">\n",
       "      <th></th>\n",
       "      <th>timedelta</th>\n",
       "      <th>accX</th>\n",
       "      <th>timedelta</th>\n",
       "      <th>accY</th>\n",
       "      <th>timedelta</th>\n",
       "      <th>accZ</th>\n",
       "    </tr>\n",
       "  </thead>\n",
       "  <tbody>\n",
       "    <tr>\n",
       "      <th>0</th>\n",
       "      <td>0 days 00:00:00</td>\n",
       "      <td>-0.243203</td>\n",
       "      <td>0 days 00:00:00</td>\n",
       "      <td>0.895372</td>\n",
       "      <td>0 days 00:00:00</td>\n",
       "      <td>0.367591</td>\n",
       "    </tr>\n",
       "    <tr>\n",
       "      <th>1</th>\n",
       "      <td>0 days 00:00:01</td>\n",
       "      <td>-0.240757</td>\n",
       "      <td>0 days 00:00:01</td>\n",
       "      <td>0.873826</td>\n",
       "      <td>0 days 00:00:01</td>\n",
       "      <td>0.415446</td>\n",
       "    </tr>\n",
       "    <tr>\n",
       "      <th>2</th>\n",
       "      <td>0 days 00:00:02</td>\n",
       "      <td>-0.244620</td>\n",
       "      <td>0 days 00:00:02</td>\n",
       "      <td>0.883943</td>\n",
       "      <td>0 days 00:00:02</td>\n",
       "      <td>0.387026</td>\n",
       "    </tr>\n",
       "    <tr>\n",
       "      <th>3</th>\n",
       "      <td>0 days 00:00:03</td>\n",
       "      <td>-0.248036</td>\n",
       "      <td>0 days 00:00:03</td>\n",
       "      <td>0.902427</td>\n",
       "      <td>0 days 00:00:03</td>\n",
       "      <td>0.347812</td>\n",
       "    </tr>\n",
       "    <tr>\n",
       "      <th>4</th>\n",
       "      <td>0 days 00:00:04</td>\n",
       "      <td>-0.241778</td>\n",
       "      <td>0 days 00:00:04</td>\n",
       "      <td>0.912946</td>\n",
       "      <td>0 days 00:00:04</td>\n",
       "      <td>0.321502</td>\n",
       "    </tr>\n",
       "    <tr>\n",
       "      <th>...</th>\n",
       "      <td>...</td>\n",
       "      <td>...</td>\n",
       "      <td>...</td>\n",
       "      <td>...</td>\n",
       "      <td>...</td>\n",
       "      <td>...</td>\n",
       "    </tr>\n",
       "    <tr>\n",
       "      <th>16976</th>\n",
       "      <td>0 days 04:42:56</td>\n",
       "      <td>-0.442763</td>\n",
       "      <td>0 days 04:42:56</td>\n",
       "      <td>-0.525892</td>\n",
       "      <td>0 days 04:42:56</td>\n",
       "      <td>0.722950</td>\n",
       "    </tr>\n",
       "    <tr>\n",
       "      <th>16977</th>\n",
       "      <td>0 days 04:42:57</td>\n",
       "      <td>-0.441990</td>\n",
       "      <td>0 days 04:42:57</td>\n",
       "      <td>-0.525476</td>\n",
       "      <td>0 days 04:42:57</td>\n",
       "      <td>0.723410</td>\n",
       "    </tr>\n",
       "    <tr>\n",
       "      <th>16978</th>\n",
       "      <td>0 days 04:42:58</td>\n",
       "      <td>-0.441581</td>\n",
       "      <td>0 days 04:42:58</td>\n",
       "      <td>-0.525116</td>\n",
       "      <td>0 days 04:42:58</td>\n",
       "      <td>0.724003</td>\n",
       "    </tr>\n",
       "    <tr>\n",
       "      <th>16979</th>\n",
       "      <td>0 days 04:42:59</td>\n",
       "      <td>-0.442283</td>\n",
       "      <td>0 days 04:42:59</td>\n",
       "      <td>-0.525849</td>\n",
       "      <td>0 days 04:42:59</td>\n",
       "      <td>0.723265</td>\n",
       "    </tr>\n",
       "    <tr>\n",
       "      <th>16980</th>\n",
       "      <td>0 days 04:43:00</td>\n",
       "      <td>-0.442674</td>\n",
       "      <td>0 days 04:43:00</td>\n",
       "      <td>-0.525962</td>\n",
       "      <td>0 days 04:43:00</td>\n",
       "      <td>0.722678</td>\n",
       "    </tr>\n",
       "  </tbody>\n",
       "</table>\n",
       "<p>16981 rows × 6 columns</p>\n",
       "</div>"
      ],
      "text/plain": [
       "            timedelta      accX       timedelta      accY       timedelta  \\\n",
       "0     0 days 00:00:00 -0.243203 0 days 00:00:00  0.895372 0 days 00:00:00   \n",
       "1     0 days 00:00:01 -0.240757 0 days 00:00:01  0.873826 0 days 00:00:01   \n",
       "2     0 days 00:00:02 -0.244620 0 days 00:00:02  0.883943 0 days 00:00:02   \n",
       "3     0 days 00:00:03 -0.248036 0 days 00:00:03  0.902427 0 days 00:00:03   \n",
       "4     0 days 00:00:04 -0.241778 0 days 00:00:04  0.912946 0 days 00:00:04   \n",
       "...               ...       ...             ...       ...             ...   \n",
       "16976 0 days 04:42:56 -0.442763 0 days 04:42:56 -0.525892 0 days 04:42:56   \n",
       "16977 0 days 04:42:57 -0.441990 0 days 04:42:57 -0.525476 0 days 04:42:57   \n",
       "16978 0 days 04:42:58 -0.441581 0 days 04:42:58 -0.525116 0 days 04:42:58   \n",
       "16979 0 days 04:42:59 -0.442283 0 days 04:42:59 -0.525849 0 days 04:42:59   \n",
       "16980 0 days 04:43:00 -0.442674 0 days 04:43:00 -0.525962 0 days 04:43:00   \n",
       "\n",
       "           accZ  \n",
       "0      0.367591  \n",
       "1      0.415446  \n",
       "2      0.387026  \n",
       "3      0.347812  \n",
       "4      0.321502  \n",
       "...         ...  \n",
       "16976  0.722950  \n",
       "16977  0.723410  \n",
       "16978  0.724003  \n",
       "16979  0.723265  \n",
       "16980  0.722678  \n",
       "\n",
       "[16981 rows x 6 columns]"
      ]
     },
     "execution_count": 379,
     "metadata": {},
     "output_type": "execute_result"
    }
   ],
   "source": [
    "ACC = pd.concat([df_acc_X, df_acc_Y, df_acc_Z], axis=1)\n",
    "ACC"
   ]
  },
  {
   "cell_type": "code",
   "execution_count": 380,
   "metadata": {},
   "outputs": [
    {
     "data": {
      "text/html": [
       "<div>\n",
       "<style scoped>\n",
       "    .dataframe tbody tr th:only-of-type {\n",
       "        vertical-align: middle;\n",
       "    }\n",
       "\n",
       "    .dataframe tbody tr th {\n",
       "        vertical-align: top;\n",
       "    }\n",
       "\n",
       "    .dataframe thead th {\n",
       "        text-align: right;\n",
       "    }\n",
       "</style>\n",
       "<table border=\"1\" class=\"dataframe\">\n",
       "  <thead>\n",
       "    <tr style=\"text-align: right;\">\n",
       "      <th></th>\n",
       "      <th>timedelta</th>\n",
       "      <th>accX</th>\n",
       "      <th>accY</th>\n",
       "      <th>accZ</th>\n",
       "    </tr>\n",
       "  </thead>\n",
       "  <tbody>\n",
       "    <tr>\n",
       "      <th>0</th>\n",
       "      <td>0 days 00:00:00</td>\n",
       "      <td>-0.243203</td>\n",
       "      <td>0.895372</td>\n",
       "      <td>0.367591</td>\n",
       "    </tr>\n",
       "    <tr>\n",
       "      <th>1</th>\n",
       "      <td>0 days 00:00:01</td>\n",
       "      <td>-0.240757</td>\n",
       "      <td>0.873826</td>\n",
       "      <td>0.415446</td>\n",
       "    </tr>\n",
       "    <tr>\n",
       "      <th>2</th>\n",
       "      <td>0 days 00:00:02</td>\n",
       "      <td>-0.24462</td>\n",
       "      <td>0.883943</td>\n",
       "      <td>0.387026</td>\n",
       "    </tr>\n",
       "    <tr>\n",
       "      <th>3</th>\n",
       "      <td>0 days 00:00:03</td>\n",
       "      <td>-0.248036</td>\n",
       "      <td>0.902427</td>\n",
       "      <td>0.347812</td>\n",
       "    </tr>\n",
       "    <tr>\n",
       "      <th>4</th>\n",
       "      <td>0 days 00:00:04</td>\n",
       "      <td>-0.241778</td>\n",
       "      <td>0.912946</td>\n",
       "      <td>0.321502</td>\n",
       "    </tr>\n",
       "    <tr>\n",
       "      <th>...</th>\n",
       "      <td>...</td>\n",
       "      <td>...</td>\n",
       "      <td>...</td>\n",
       "      <td>...</td>\n",
       "    </tr>\n",
       "    <tr>\n",
       "      <th>16976</th>\n",
       "      <td>0 days 04:42:56</td>\n",
       "      <td>-0.442763</td>\n",
       "      <td>-0.525892</td>\n",
       "      <td>0.72295</td>\n",
       "    </tr>\n",
       "    <tr>\n",
       "      <th>16977</th>\n",
       "      <td>0 days 04:42:57</td>\n",
       "      <td>-0.44199</td>\n",
       "      <td>-0.525476</td>\n",
       "      <td>0.72341</td>\n",
       "    </tr>\n",
       "    <tr>\n",
       "      <th>16978</th>\n",
       "      <td>0 days 04:42:58</td>\n",
       "      <td>-0.441581</td>\n",
       "      <td>-0.525116</td>\n",
       "      <td>0.724003</td>\n",
       "    </tr>\n",
       "    <tr>\n",
       "      <th>16979</th>\n",
       "      <td>0 days 04:42:59</td>\n",
       "      <td>-0.442283</td>\n",
       "      <td>-0.525849</td>\n",
       "      <td>0.723265</td>\n",
       "    </tr>\n",
       "    <tr>\n",
       "      <th>16980</th>\n",
       "      <td>0 days 04:43:00</td>\n",
       "      <td>-0.442674</td>\n",
       "      <td>-0.525962</td>\n",
       "      <td>0.722678</td>\n",
       "    </tr>\n",
       "  </tbody>\n",
       "</table>\n",
       "<p>16981 rows × 4 columns</p>\n",
       "</div>"
      ],
      "text/plain": [
       "            timedelta      accX      accY      accZ\n",
       "0     0 days 00:00:00 -0.243203  0.895372  0.367591\n",
       "1     0 days 00:00:01 -0.240757  0.873826  0.415446\n",
       "2     0 days 00:00:02  -0.24462  0.883943  0.387026\n",
       "3     0 days 00:00:03 -0.248036  0.902427  0.347812\n",
       "4     0 days 00:00:04 -0.241778  0.912946  0.321502\n",
       "...               ...       ...       ...       ...\n",
       "16976 0 days 04:42:56 -0.442763 -0.525892   0.72295\n",
       "16977 0 days 04:42:57  -0.44199 -0.525476   0.72341\n",
       "16978 0 days 04:42:58 -0.441581 -0.525116  0.724003\n",
       "16979 0 days 04:42:59 -0.442283 -0.525849  0.723265\n",
       "16980 0 days 04:43:00 -0.442674 -0.525962  0.722678\n",
       "\n",
       "[16981 rows x 4 columns]"
      ]
     },
     "execution_count": 380,
     "metadata": {},
     "output_type": "execute_result"
    }
   ],
   "source": [
    "ACC = ACC.T.drop_duplicates().T\n",
    "ACC"
   ]
  },
  {
   "cell_type": "markdown",
   "metadata": {},
   "source": [
    "#### (c) Load and Prepare data (Heart rate)"
   ]
  },
  {
   "cell_type": "code",
   "execution_count": 381,
   "metadata": {},
   "outputs": [],
   "source": [
    "# ------------ Rounding Heart Rate (Rounding to 1 sec) -------------------------------\n",
    "HeartR_new['timedelta'] = pd.DataFrame(pd.to_timedelta(HeartR_new['timedelta'],unit='s').round('1s'))"
   ]
  },
  {
   "cell_type": "code",
   "execution_count": 382,
   "metadata": {},
   "outputs": [],
   "source": [
    "# Resampling every 1s with median with ffill\n",
    "resample_rule = '1s'\n",
    "HeartR_new2 = HeartR_new.set_index('timedelta').resample(resample_rule,).median().ffill()"
   ]
  },
  {
   "cell_type": "markdown",
   "metadata": {},
   "source": [
    "#### (d) Load and Preapre Data (Sleep Label)"
   ]
  },
  {
   "cell_type": "code",
   "execution_count": 383,
   "metadata": {},
   "outputs": [],
   "source": [
    "# ------------ Rounding Sleep Label (Rounding to 1 sec) -------------------------------\n",
    "SleepL_new['timedelta'] = pd.DataFrame(pd.to_timedelta(SleepL_new['timedelta'],unit='s').round('1s'))"
   ]
  },
  {
   "cell_type": "code",
   "execution_count": 384,
   "metadata": {},
   "outputs": [],
   "source": [
    "# Resampling every 1s with median with ffill\n",
    "resample_rule = '1s'\n",
    "SleepL_new2 = SleepL_new.set_index('timedelta').resample(resample_rule,).median().ffill()\n",
    "SleepL_new2.replace({-1:0},inplace=True)"
   ]
  },
  {
   "cell_type": "markdown",
   "metadata": {},
   "source": [
    "#### (e) Merge Data and Standardized data"
   ]
  },
  {
   "cell_type": "code",
   "execution_count": 385,
   "metadata": {},
   "outputs": [],
   "source": [
    "# ------------Merge All Data -------------------------------\n",
    "df = []\n",
    "df = pd.merge_asof(ACC, HeartR_new2, on='timedelta')\n",
    "df = pd.merge_asof(df, SleepL_new2, on='timedelta')"
   ]
  },
  {
   "cell_type": "code",
   "execution_count": 386,
   "metadata": {},
   "outputs": [
    {
     "data": {
      "text/html": [
       "<div>\n",
       "<style scoped>\n",
       "    .dataframe tbody tr th:only-of-type {\n",
       "        vertical-align: middle;\n",
       "    }\n",
       "\n",
       "    .dataframe tbody tr th {\n",
       "        vertical-align: top;\n",
       "    }\n",
       "\n",
       "    .dataframe thead th {\n",
       "        text-align: right;\n",
       "    }\n",
       "</style>\n",
       "<table border=\"1\" class=\"dataframe\">\n",
       "  <thead>\n",
       "    <tr style=\"text-align: right;\">\n",
       "      <th></th>\n",
       "      <th>accX</th>\n",
       "      <th>accY</th>\n",
       "      <th>accZ</th>\n",
       "      <th>heartrate</th>\n",
       "      <th>sleep</th>\n",
       "    </tr>\n",
       "  </thead>\n",
       "  <tbody>\n",
       "    <tr>\n",
       "      <th>0</th>\n",
       "      <td>-0.243203</td>\n",
       "      <td>0.895372</td>\n",
       "      <td>0.367591</td>\n",
       "      <td>87.0</td>\n",
       "      <td>0.0</td>\n",
       "    </tr>\n",
       "    <tr>\n",
       "      <th>1</th>\n",
       "      <td>-0.240757</td>\n",
       "      <td>0.873826</td>\n",
       "      <td>0.415446</td>\n",
       "      <td>87.0</td>\n",
       "      <td>0.0</td>\n",
       "    </tr>\n",
       "    <tr>\n",
       "      <th>2</th>\n",
       "      <td>-0.24462</td>\n",
       "      <td>0.883943</td>\n",
       "      <td>0.387026</td>\n",
       "      <td>87.0</td>\n",
       "      <td>0.0</td>\n",
       "    </tr>\n",
       "    <tr>\n",
       "      <th>3</th>\n",
       "      <td>-0.248036</td>\n",
       "      <td>0.902427</td>\n",
       "      <td>0.347812</td>\n",
       "      <td>87.0</td>\n",
       "      <td>0.0</td>\n",
       "    </tr>\n",
       "    <tr>\n",
       "      <th>4</th>\n",
       "      <td>-0.241778</td>\n",
       "      <td>0.912946</td>\n",
       "      <td>0.321502</td>\n",
       "      <td>87.0</td>\n",
       "      <td>0.0</td>\n",
       "    </tr>\n",
       "    <tr>\n",
       "      <th>...</th>\n",
       "      <td>...</td>\n",
       "      <td>...</td>\n",
       "      <td>...</td>\n",
       "      <td>...</td>\n",
       "      <td>...</td>\n",
       "    </tr>\n",
       "    <tr>\n",
       "      <th>16976</th>\n",
       "      <td>-0.442763</td>\n",
       "      <td>-0.525892</td>\n",
       "      <td>0.72295</td>\n",
       "      <td>76.0</td>\n",
       "      <td>0.0</td>\n",
       "    </tr>\n",
       "    <tr>\n",
       "      <th>16977</th>\n",
       "      <td>-0.44199</td>\n",
       "      <td>-0.525476</td>\n",
       "      <td>0.72341</td>\n",
       "      <td>76.0</td>\n",
       "      <td>0.0</td>\n",
       "    </tr>\n",
       "    <tr>\n",
       "      <th>16978</th>\n",
       "      <td>-0.441581</td>\n",
       "      <td>-0.525116</td>\n",
       "      <td>0.724003</td>\n",
       "      <td>76.0</td>\n",
       "      <td>0.0</td>\n",
       "    </tr>\n",
       "    <tr>\n",
       "      <th>16979</th>\n",
       "      <td>-0.442283</td>\n",
       "      <td>-0.525849</td>\n",
       "      <td>0.723265</td>\n",
       "      <td>76.0</td>\n",
       "      <td>0.0</td>\n",
       "    </tr>\n",
       "    <tr>\n",
       "      <th>16980</th>\n",
       "      <td>-0.442674</td>\n",
       "      <td>-0.525962</td>\n",
       "      <td>0.722678</td>\n",
       "      <td>75.0</td>\n",
       "      <td>0.0</td>\n",
       "    </tr>\n",
       "  </tbody>\n",
       "</table>\n",
       "<p>16981 rows × 5 columns</p>\n",
       "</div>"
      ],
      "text/plain": [
       "           accX      accY      accZ  heartrate  sleep\n",
       "0     -0.243203  0.895372  0.367591       87.0    0.0\n",
       "1     -0.240757  0.873826  0.415446       87.0    0.0\n",
       "2      -0.24462  0.883943  0.387026       87.0    0.0\n",
       "3     -0.248036  0.902427  0.347812       87.0    0.0\n",
       "4     -0.241778  0.912946  0.321502       87.0    0.0\n",
       "...         ...       ...       ...        ...    ...\n",
       "16976 -0.442763 -0.525892   0.72295       76.0    0.0\n",
       "16977  -0.44199 -0.525476   0.72341       76.0    0.0\n",
       "16978 -0.441581 -0.525116  0.724003       76.0    0.0\n",
       "16979 -0.442283 -0.525849  0.723265       76.0    0.0\n",
       "16980 -0.442674 -0.525962  0.722678       75.0    0.0\n",
       "\n",
       "[16981 rows x 5 columns]"
      ]
     },
     "execution_count": 386,
     "metadata": {},
     "output_type": "execute_result"
    }
   ],
   "source": [
    "# Fill NA\n",
    "# Heart rate\n",
    "# Fillna() # using median()\n",
    "heart_medain = df.heartrate.median()\n",
    "df.heartrate.fillna(heart_medain,inplace=True)\n",
    "# # Sleep Label\n",
    "# Fillna() # with 0\n",
    "df.sleep.fillna(0,inplace=True)\n",
    "# # Drop column\n",
    "df.drop(columns='timedelta',inplace=True)\n",
    "df"
   ]
  },
  {
   "cell_type": "code",
   "execution_count": 387,
   "metadata": {},
   "outputs": [
    {
     "data": {
      "text/html": [
       "<div>\n",
       "<style scoped>\n",
       "    .dataframe tbody tr th:only-of-type {\n",
       "        vertical-align: middle;\n",
       "    }\n",
       "\n",
       "    .dataframe tbody tr th {\n",
       "        vertical-align: top;\n",
       "    }\n",
       "\n",
       "    .dataframe thead th {\n",
       "        text-align: right;\n",
       "    }\n",
       "</style>\n",
       "<table border=\"1\" class=\"dataframe\">\n",
       "  <thead>\n",
       "    <tr style=\"text-align: right;\">\n",
       "      <th></th>\n",
       "      <th>accX</th>\n",
       "      <th>accY</th>\n",
       "      <th>accZ</th>\n",
       "      <th>heartrate</th>\n",
       "    </tr>\n",
       "  </thead>\n",
       "  <tbody>\n",
       "    <tr>\n",
       "      <th>0</th>\n",
       "      <td>-0.587547</td>\n",
       "      <td>3.058075</td>\n",
       "      <td>0.698728</td>\n",
       "      <td>0.788122</td>\n",
       "    </tr>\n",
       "    <tr>\n",
       "      <th>1</th>\n",
       "      <td>-0.581456</td>\n",
       "      <td>2.995094</td>\n",
       "      <td>0.757746</td>\n",
       "      <td>0.788122</td>\n",
       "    </tr>\n",
       "    <tr>\n",
       "      <th>2</th>\n",
       "      <td>-0.591075</td>\n",
       "      <td>3.024668</td>\n",
       "      <td>0.722696</td>\n",
       "      <td>0.788122</td>\n",
       "    </tr>\n",
       "    <tr>\n",
       "      <th>3</th>\n",
       "      <td>-0.599581</td>\n",
       "      <td>3.078699</td>\n",
       "      <td>0.674335</td>\n",
       "      <td>0.788122</td>\n",
       "    </tr>\n",
       "    <tr>\n",
       "      <th>4</th>\n",
       "      <td>-0.583998</td>\n",
       "      <td>3.109450</td>\n",
       "      <td>0.641889</td>\n",
       "      <td>0.788122</td>\n",
       "    </tr>\n",
       "    <tr>\n",
       "      <th>...</th>\n",
       "      <td>...</td>\n",
       "      <td>...</td>\n",
       "      <td>...</td>\n",
       "      <td>...</td>\n",
       "    </tr>\n",
       "    <tr>\n",
       "      <th>16976</th>\n",
       "      <td>-1.084456</td>\n",
       "      <td>-1.096565</td>\n",
       "      <td>1.136974</td>\n",
       "      <td>-0.630659</td>\n",
       "    </tr>\n",
       "    <tr>\n",
       "      <th>16977</th>\n",
       "      <td>-1.082531</td>\n",
       "      <td>-1.095348</td>\n",
       "      <td>1.137542</td>\n",
       "      <td>-0.630659</td>\n",
       "    </tr>\n",
       "    <tr>\n",
       "      <th>16978</th>\n",
       "      <td>-1.081511</td>\n",
       "      <td>-1.094296</td>\n",
       "      <td>1.138273</td>\n",
       "      <td>-0.630659</td>\n",
       "    </tr>\n",
       "    <tr>\n",
       "      <th>16979</th>\n",
       "      <td>-1.083260</td>\n",
       "      <td>-1.096440</td>\n",
       "      <td>1.137363</td>\n",
       "      <td>-0.630659</td>\n",
       "    </tr>\n",
       "    <tr>\n",
       "      <th>16980</th>\n",
       "      <td>-1.084234</td>\n",
       "      <td>-1.096769</td>\n",
       "      <td>1.136639</td>\n",
       "      <td>-0.759639</td>\n",
       "    </tr>\n",
       "  </tbody>\n",
       "</table>\n",
       "<p>16981 rows × 4 columns</p>\n",
       "</div>"
      ],
      "text/plain": [
       "           accX      accY      accZ  heartrate\n",
       "0     -0.587547  3.058075  0.698728   0.788122\n",
       "1     -0.581456  2.995094  0.757746   0.788122\n",
       "2     -0.591075  3.024668  0.722696   0.788122\n",
       "3     -0.599581  3.078699  0.674335   0.788122\n",
       "4     -0.583998  3.109450  0.641889   0.788122\n",
       "...         ...       ...       ...        ...\n",
       "16976 -1.084456 -1.096565  1.136974  -0.630659\n",
       "16977 -1.082531 -1.095348  1.137542  -0.630659\n",
       "16978 -1.081511 -1.094296  1.138273  -0.630659\n",
       "16979 -1.083260 -1.096440  1.137363  -0.630659\n",
       "16980 -1.084234 -1.096769  1.136639  -0.759639\n",
       "\n",
       "[16981 rows x 4 columns]"
      ]
     },
     "execution_count": 387,
     "metadata": {},
     "output_type": "execute_result"
    }
   ],
   "source": [
    "# Standardized data\n",
    "feature_columns = ['accX', 'accY', 'accZ', 'heartrate']\n",
    "label_columns = ['sleep']\n",
    "standard_scaler = StandardScaler()\n",
    "df[feature_columns] = standard_scaler.fit_transform(df[feature_columns])\n",
    "\n",
    "df_feature = df[feature_columns]\n",
    "df_label = df[label_columns]\n",
    "df_feature"
   ]
  },
  {
   "cell_type": "code",
   "execution_count": 388,
   "metadata": {},
   "outputs": [
    {
     "data": {
      "text/plain": [
       "[<matplotlib.lines.Line2D at 0x2c7f54520>]"
      ]
     },
     "execution_count": 388,
     "metadata": {},
     "output_type": "execute_result"
    },
    {
     "data": {
      "image/png": "[encoded data removed]",
      "text/plain": [
       "<Figure size 432x288 with 1 Axes>"
      ]
     },
     "metadata": {
      "needs_background": "light"
     },
     "output_type": "display_data"
    }
   ],
   "source": [
    "# Visualize signals\n",
    "\n",
    "lst = [int(i) for i in range(len(df[feature_columns]))]\n",
    "plt.plot(lst,df_feature.accX)\n",
    "plt.plot(lst,df_feature.accY)\n",
    "plt.plot(lst,df_feature.accZ)\n",
    "plt.plot(lst,df_feature.heartrate)"
   ]
  },
  {
   "cell_type": "code",
   "execution_count": 389,
   "metadata": {},
   "outputs": [
    {
     "data": {
      "text/plain": [
       "[<matplotlib.lines.Line2D at 0x30385b460>]"
      ]
     },
     "execution_count": 389,
     "metadata": {},
     "output_type": "execute_result"
    },
    {
     "data": {
      "image/png": "[encoded data removed]",
      "text/plain": [
       "<Figure size 432x288 with 1 Axes>"
      ]
     },
     "metadata": {
      "needs_background": "light"
     },
     "output_type": "display_data"
    }
   ],
   "source": [
    "lst = [int(i) for i in range(len(df.heartrate))]\n",
    "plt.plot(lst,df_label.sleep)"
   ]
  },
  {
   "cell_type": "markdown",
   "metadata": {},
   "source": [
    "## 9.2.1 Create 3d input"
   ]
  },
  {
   "cell_type": "code",
   "execution_count": 390,
   "metadata": {},
   "outputs": [
    {
     "name": "stdout",
     "output_type": "stream",
     "text": [
      "(3377, 100, 4, 1)\n",
      "(3377,)\n"
     ]
    }
   ],
   "source": [
    "# # ------------ 1D to 3D feature-------------------------------\n",
    "# # set sliding window parameter\n",
    "slidingW = 100\n",
    "n_feature = 4\n",
    "stride_step = 5\n",
    "df_feature3D = []\n",
    "df_label_new = np.array([])                                         \n",
    "for t in range( 0 , len(df_feature) - 100, stride_step):    \n",
    "    F3d= df_feature[t:t+ slidingW]                         \n",
    "    df_feature3D.append(np.array(F3d))        \n",
    "    Labels = stats.mode(df_label[t : t+slidingW]) \n",
    "    df_label_new = np.append(df_label_new,Labels[0])\n",
    "\n",
    "df_feature3D = np.array(df_feature3D).reshape(len(df_feature3D),100,4,1)\n",
    "\n",
    "print(df_feature3D.shape)\n",
    "print(df_label_new.shape)"
   ]
  },
  {
   "cell_type": "code",
   "execution_count": 406,
   "metadata": {},
   "outputs": [
    {
     "name": "stdout",
     "output_type": "stream",
     "text": [
      "12735 16981\n"
     ]
    }
   ],
   "source": [
    "# # ------------ Train-Test-Split 2D features -------------------------------\n",
    "x_train, x_test, y_train, y_test = train_test_split(df_feature, df_label)\n"
   ]
  },
  {
   "cell_type": "code",
   "execution_count": 392,
   "metadata": {},
   "outputs": [],
   "source": [
    "# # ------------ Train-Test-Split 3D features -------------------------------\n",
    "x3D_train, x3D_test, y3D_train, y3D_test = train_test_split(df_feature3D , df_label_new)"
   ]
  },
  {
   "cell_type": "markdown",
   "metadata": {},
   "source": [
    "## 9.2 NN Model Train and Test"
   ]
  },
  {
   "cell_type": "code",
   "execution_count": 393,
   "metadata": {},
   "outputs": [],
   "source": [
    "# ------------ NN Architecture parameter -------------------------------\n",
    "Hidden_Layer_param = (30, 30, 30)\n",
    "mlp = MLPClassifier(hidden_layer_sizes = Hidden_Layer_param)\n",
    "# View NN model parameters"
   ]
  },
  {
   "cell_type": "code",
   "execution_count": 394,
   "metadata": {},
   "outputs": [],
   "source": [
    "# ------------ Training NN using 1D features -------------------------------\n",
    "y_train = np.array(y_train).ravel()  ## reshape เป็น (n_sample, ) แก้ตาม warning\n",
    "y_train.shape\n",
    "mlp.fit(x_train, y_train)\n",
    "mlp_pred = mlp.predict(x_test)"
   ]
  },
  {
   "cell_type": "code",
   "execution_count": 395,
   "metadata": {},
   "outputs": [
    {
     "name": "stdout",
     "output_type": "stream",
     "text": [
      "----- Confusion matrix of NN -----\n",
      "[[ 589   23   89   10    1]\n",
      " [  25   96  100    6    1]\n",
      " [  23   24 1107   67   64]\n",
      " [   0    0   53 1115    0]\n",
      " [   2    4    3    0  844]]\n",
      "----- Classification matrix of NN -----\n",
      "              precision    recall  f1-score   support\n",
      "\n",
      "         0.0       0.92      0.83      0.87       712\n",
      "         1.0       0.65      0.42      0.51       228\n",
      "         2.0       0.82      0.86      0.84      1285\n",
      "         3.0       0.93      0.95      0.94      1168\n",
      "         5.0       0.93      0.99      0.96       853\n",
      "\n",
      "    accuracy                           0.88      4246\n",
      "   macro avg       0.85      0.81      0.82      4246\n",
      "weighted avg       0.88      0.88      0.88      4246\n",
      "\n"
     ]
    }
   ],
   "source": [
    "# View Confusion Matrix and Classification Report\n",
    "\n",
    "print('----- Confusion matrix of NN -----')\n",
    "print(confusion_matrix(y_test,mlp_pred))\n",
    "print('----- Classification matrix of NN -----')\n",
    "print(classification_report(y_test,mlp_pred))"
   ]
  },
  {
   "cell_type": "markdown",
   "metadata": {},
   "source": [
    "## 9.3 CNN Train and Test"
   ]
  },
  {
   "cell_type": "markdown",
   "metadata": {},
   "source": [
    "#### (a) CNN Model Train Test"
   ]
  },
  {
   "cell_type": "code",
   "execution_count": 396,
   "metadata": {},
   "outputs": [],
   "source": [
    "# ------------ CNN Architecture parameter -------------------------------\n",
    "# Nlayer (CNN, dense), Nnode, Activation\n",
    "CNN_L1 = 16 \n",
    "CNN_L2 = 64\n",
    "CNN_L3 = 128\n",
    "D_L1 = 512\n",
    "D_out = 6\n",
    "Activation = \"relu\"\n",
    "Ker_size = (3,3)\n",
    "Pooling_size = (2,1)  \n",
    "Input_shape = (slidingW, n_feature, 1)  # (100,4,1)\n",
    "model = Sequential()"
   ]
  },
  {
   "cell_type": "code",
   "execution_count": 397,
   "metadata": {},
   "outputs": [
    {
     "name": "stdout",
     "output_type": "stream",
     "text": [
      "Model: \"sequential_11\"\n",
      "_________________________________________________________________\n",
      " Layer (type)                Output Shape              Param #   \n",
      "=================================================================\n",
      " conv2d_33 (Conv2D)          (None, 100, 4, 16)        160       \n",
      "                                                                 \n",
      " max_pooling2d_33 (MaxPoolin  (None, 50, 4, 16)        0         \n",
      " g2D)                                                            \n",
      "                                                                 \n",
      " dropout_33 (Dropout)        (None, 50, 4, 16)         0         \n",
      "                                                                 \n",
      " conv2d_34 (Conv2D)          (None, 50, 4, 64)         9280      \n",
      "                                                                 \n",
      " max_pooling2d_34 (MaxPoolin  (None, 25, 4, 64)        0         \n",
      " g2D)                                                            \n",
      "                                                                 \n",
      " dropout_34 (Dropout)        (None, 25, 4, 64)         0         \n",
      "                                                                 \n",
      " conv2d_35 (Conv2D)          (None, 25, 4, 128)        73856     \n",
      "                                                                 \n",
      " max_pooling2d_35 (MaxPoolin  (None, 12, 4, 128)       0         \n",
      " g2D)                                                            \n",
      "                                                                 \n",
      " dropout_35 (Dropout)        (None, 12, 4, 128)        0         \n",
      "                                                                 \n",
      " flatten_11 (Flatten)        (None, 6144)              0         \n",
      "                                                                 \n",
      " dense_22 (Dense)            (None, 512)               3146240   \n",
      "                                                                 \n",
      " dense_23 (Dense)            (None, 6)                 3078      \n",
      "                                                                 \n",
      "=================================================================\n",
      "Total params: 3,232,614\n",
      "Trainable params: 3,232,614\n",
      "Non-trainable params: 0\n",
      "_________________________________________________________________\n"
     ]
    }
   ],
   "source": [
    " # ------------ Create CNN Model -------------------------------\n",
    "model.add(Conv2D(CNN_L1, kernel_size=Ker_size, activation=Activation,input_shape=Input_shape,padding='same'))\n",
    "model.add(MaxPooling2D(pool_size=Pooling_size))                                                                  \n",
    "model.add(Dropout(0.4))                                                                                          \n",
    "model.add(Conv2D(CNN_L2, kernel_size=Ker_size, activation= Activation, padding='same'))\n",
    "model.add(MaxPooling2D(pool_size= Pooling_size))\n",
    "model.add(Dropout(0.4))\n",
    "model.add(Conv2D(CNN_L3, kernel_size=Ker_size, activation= Activation, padding='same'))\n",
    "model.add(MaxPooling2D(pool_size= Pooling_size))\n",
    "model.add(Dropout(0.4))\n",
    "model.add(Flatten())                                                                                             \n",
    "model.add(Dense(D_L1 , activation= Activation ))                                                                 \n",
    "model.add(Dense(D_out, activation='sigmoid'))                                                                    \n",
    "model.compile(optimizer='adam', metrics=['accuracy'])\n",
    "model.summary()"
   ]
  },
  {
   "cell_type": "code",
   "execution_count": 398,
   "metadata": {},
   "outputs": [],
   "source": [
    "# ------------ Create Optimizer -------------------------------\n",
    "model.compile(optimizer='adam',loss= tf.keras.losses.SparseCategoricalCrossentropy(from_logits=True),metrics=[\"acc\"])"
   ]
  },
  {
   "cell_type": "code",
   "execution_count": 399,
   "metadata": {},
   "outputs": [
    {
     "name": "stdout",
     "output_type": "stream",
     "text": [
      "(2532, 100, 4, 1)\n",
      "(2532,)\n",
      "(845, 100, 4, 1)\n",
      "(845,)\n"
     ]
    }
   ],
   "source": [
    "print(x3D_train.shape)\n",
    "print(np.array(y3D_train).shape)\n",
    "print(x3D_test.shape)\n",
    "print(np.array(y3D_test).shape)"
   ]
  },
  {
   "cell_type": "code",
   "execution_count": 400,
   "metadata": {},
   "outputs": [
    {
     "name": "stdout",
     "output_type": "stream",
     "text": [
      "Epoch 1/50\n"
     ]
    },
    {
     "name": "stderr",
     "output_type": "stream",
     "text": [
      "2022-11-04 12:07:36.475082: I tensorflow/core/grappler/optimizers/custom_graph_optimizer_registry.cc:114] Plugin optimizer for device_type GPU is enabled.\n"
     ]
    },
    {
     "name": "stdout",
     "output_type": "stream",
     "text": [
      "40/40 [==============================] - ETA: 0s - loss: 1.0296 - acc: 0.5620"
     ]
    },
    {
     "name": "stderr",
     "output_type": "stream",
     "text": [
      "2022-11-04 12:07:37.641015: I tensorflow/core/grappler/optimizers/custom_graph_optimizer_registry.cc:114] Plugin optimizer for device_type GPU is enabled.\n"
     ]
    },
    {
     "name": "stdout",
     "output_type": "stream",
     "text": [
      "40/40 [==============================] - 2s 27ms/step - loss: 1.0296 - acc: 0.5620 - val_loss: 0.7445 - val_acc: 0.6959\n",
      "Epoch 2/50\n",
      "40/40 [==============================] - 1s 14ms/step - loss: 0.6262 - acc: 0.7362 - val_loss: 0.5321 - val_acc: 0.7728\n",
      "Epoch 3/50\n",
      "40/40 [==============================] - 1s 14ms/step - loss: 0.5264 - acc: 0.7757 - val_loss: 0.5079 - val_acc: 0.8213\n",
      "Epoch 4/50\n",
      "40/40 [==============================] - 1s 14ms/step - loss: 0.4612 - acc: 0.8013 - val_loss: 0.4233 - val_acc: 0.8438\n",
      "Epoch 5/50\n",
      "40/40 [==============================] - 1s 15ms/step - loss: 0.4312 - acc: 0.8152 - val_loss: 0.3997 - val_acc: 0.8592\n",
      "Epoch 6/50\n",
      "40/40 [==============================] - 1s 13ms/step - loss: 0.4104 - acc: 0.8187 - val_loss: 0.4035 - val_acc: 0.8462\n",
      "Epoch 7/50\n",
      "40/40 [==============================] - 0s 12ms/step - loss: 0.3702 - acc: 0.8472 - val_loss: 0.3534 - val_acc: 0.8639\n",
      "Epoch 8/50\n",
      "40/40 [==============================] - 0s 12ms/step - loss: 0.3532 - acc: 0.8511 - val_loss: 0.3349 - val_acc: 0.8793\n",
      "Epoch 9/50\n",
      "40/40 [==============================] - 1s 13ms/step - loss: 0.3224 - acc: 0.8630 - val_loss: 0.3058 - val_acc: 0.8876\n",
      "Epoch 10/50\n",
      "40/40 [==============================] - 0s 12ms/step - loss: 0.3129 - acc: 0.8661 - val_loss: 0.2962 - val_acc: 0.8639\n",
      "Epoch 11/50\n",
      "40/40 [==============================] - 0s 12ms/step - loss: 0.2762 - acc: 0.8894 - val_loss: 0.2720 - val_acc: 0.8947\n",
      "Epoch 12/50\n",
      "40/40 [==============================] - 0s 12ms/step - loss: 0.2876 - acc: 0.8760 - val_loss: 0.2864 - val_acc: 0.8899\n",
      "Epoch 13/50\n",
      "40/40 [==============================] - 0s 12ms/step - loss: 0.3239 - acc: 0.8578 - val_loss: 0.2845 - val_acc: 0.9018\n",
      "Epoch 14/50\n",
      "40/40 [==============================] - 1s 13ms/step - loss: 0.2670 - acc: 0.8882 - val_loss: 0.2886 - val_acc: 0.8828\n",
      "Epoch 15/50\n",
      "40/40 [==============================] - 0s 12ms/step - loss: 0.2644 - acc: 0.8942 - val_loss: 0.2699 - val_acc: 0.8793\n",
      "Epoch 16/50\n",
      "40/40 [==============================] - 1s 13ms/step - loss: 0.2341 - acc: 0.8985 - val_loss: 0.2296 - val_acc: 0.9053\n",
      "Epoch 17/50\n",
      "40/40 [==============================] - 1s 13ms/step - loss: 0.2268 - acc: 0.8969 - val_loss: 0.2434 - val_acc: 0.9101\n",
      "Epoch 18/50\n",
      "40/40 [==============================] - 0s 12ms/step - loss: 0.2114 - acc: 0.9139 - val_loss: 0.2581 - val_acc: 0.8793\n",
      "Epoch 19/50\n",
      "40/40 [==============================] - 0s 12ms/step - loss: 0.2161 - acc: 0.9111 - val_loss: 0.2230 - val_acc: 0.9160\n",
      "Epoch 20/50\n",
      "40/40 [==============================] - 1s 13ms/step - loss: 0.1912 - acc: 0.9198 - val_loss: 0.2198 - val_acc: 0.9183\n",
      "Epoch 21/50\n",
      "40/40 [==============================] - 1s 15ms/step - loss: 0.1955 - acc: 0.9167 - val_loss: 0.2319 - val_acc: 0.8994\n",
      "Epoch 22/50\n",
      "40/40 [==============================] - 1s 14ms/step - loss: 0.1799 - acc: 0.9242 - val_loss: 0.1858 - val_acc: 0.9337\n",
      "Epoch 23/50\n",
      "40/40 [==============================] - 1s 13ms/step - loss: 0.1895 - acc: 0.9175 - val_loss: 0.2446 - val_acc: 0.9089\n",
      "Epoch 24/50\n",
      "40/40 [==============================] - 0s 12ms/step - loss: 0.2004 - acc: 0.9163 - val_loss: 0.1937 - val_acc: 0.9337\n",
      "Epoch 25/50\n",
      "40/40 [==============================] - 0s 13ms/step - loss: 0.1743 - acc: 0.9297 - val_loss: 0.2673 - val_acc: 0.8899\n",
      "Epoch 26/50\n",
      "40/40 [==============================] - 0s 12ms/step - loss: 0.2205 - acc: 0.9076 - val_loss: 0.2402 - val_acc: 0.9030\n",
      "Epoch 27/50\n",
      "40/40 [==============================] - 0s 12ms/step - loss: 0.1590 - acc: 0.9336 - val_loss: 0.1783 - val_acc: 0.9254\n",
      "Epoch 28/50\n",
      "40/40 [==============================] - 0s 12ms/step - loss: 0.1593 - acc: 0.9368 - val_loss: 0.2205 - val_acc: 0.9030\n",
      "Epoch 29/50\n",
      "40/40 [==============================] - 0s 12ms/step - loss: 0.1549 - acc: 0.9356 - val_loss: 0.1898 - val_acc: 0.9207\n",
      "Epoch 30/50\n",
      "40/40 [==============================] - 1s 13ms/step - loss: 0.1526 - acc: 0.9289 - val_loss: 0.1971 - val_acc: 0.9183\n",
      "Epoch 31/50\n",
      "40/40 [==============================] - 1s 13ms/step - loss: 0.1600 - acc: 0.9325 - val_loss: 0.1995 - val_acc: 0.9243\n",
      "Epoch 32/50\n",
      "40/40 [==============================] - 1s 13ms/step - loss: 0.1452 - acc: 0.9400 - val_loss: 0.1964 - val_acc: 0.9290\n",
      "Epoch 33/50\n",
      "40/40 [==============================] - 0s 12ms/step - loss: 0.1121 - acc: 0.9514 - val_loss: 0.2452 - val_acc: 0.9089\n",
      "Epoch 34/50\n",
      "40/40 [==============================] - 0s 12ms/step - loss: 0.1391 - acc: 0.9380 - val_loss: 0.1895 - val_acc: 0.9112\n",
      "Epoch 35/50\n",
      "40/40 [==============================] - 0s 12ms/step - loss: 0.1290 - acc: 0.9483 - val_loss: 0.1687 - val_acc: 0.9337\n",
      "Epoch 36/50\n",
      "40/40 [==============================] - 0s 12ms/step - loss: 0.1311 - acc: 0.9479 - val_loss: 0.1969 - val_acc: 0.9195\n",
      "Epoch 37/50\n",
      "40/40 [==============================] - 0s 12ms/step - loss: 0.1198 - acc: 0.9510 - val_loss: 0.2091 - val_acc: 0.9195\n",
      "Epoch 38/50\n",
      "40/40 [==============================] - 0s 12ms/step - loss: 0.1140 - acc: 0.9506 - val_loss: 0.1701 - val_acc: 0.9195\n",
      "Epoch 39/50\n",
      "40/40 [==============================] - 0s 12ms/step - loss: 0.1264 - acc: 0.9443 - val_loss: 0.2353 - val_acc: 0.9172\n",
      "Epoch 40/50\n",
      "40/40 [==============================] - 0s 12ms/step - loss: 0.1190 - acc: 0.9475 - val_loss: 0.1518 - val_acc: 0.9420\n",
      "Epoch 41/50\n",
      "40/40 [==============================] - 0s 12ms/step - loss: 0.1373 - acc: 0.9471 - val_loss: 0.1955 - val_acc: 0.9124\n",
      "Epoch 42/50\n",
      "40/40 [==============================] - 0s 12ms/step - loss: 0.1189 - acc: 0.9518 - val_loss: 0.1722 - val_acc: 0.9266\n",
      "Epoch 43/50\n",
      "40/40 [==============================] - 0s 12ms/step - loss: 0.1214 - acc: 0.9506 - val_loss: 0.2170 - val_acc: 0.9195\n",
      "Epoch 44/50\n",
      "40/40 [==============================] - 0s 12ms/step - loss: 0.1067 - acc: 0.9546 - val_loss: 0.1822 - val_acc: 0.9349\n",
      "Epoch 45/50\n",
      "40/40 [==============================] - 0s 12ms/step - loss: 0.0905 - acc: 0.9589 - val_loss: 0.1778 - val_acc: 0.9396\n",
      "Epoch 46/50\n",
      "40/40 [==============================] - 0s 12ms/step - loss: 0.0911 - acc: 0.9570 - val_loss: 0.1669 - val_acc: 0.9314\n",
      "Epoch 47/50\n",
      "40/40 [==============================] - 0s 12ms/step - loss: 0.1172 - acc: 0.9494 - val_loss: 0.2083 - val_acc: 0.9172\n",
      "Epoch 48/50\n",
      "40/40 [==============================] - 0s 12ms/step - loss: 0.1067 - acc: 0.9546 - val_loss: 0.2969 - val_acc: 0.9041\n",
      "Epoch 49/50\n",
      "40/40 [==============================] - 0s 12ms/step - loss: 0.1137 - acc: 0.9502 - val_loss: 0.1759 - val_acc: 0.9302\n",
      "Epoch 50/50\n",
      "40/40 [==============================] - 0s 12ms/step - loss: 0.0954 - acc: 0.9605 - val_loss: 0.1842 - val_acc: 0.9302\n"
     ]
    }
   ],
   "source": [
    "# ------ Train CNN using 3D feature--------------------------------------------\n",
    "history = model.fit(x3D_train, y3D_train, epochs=50, batch_size=64,validation_data=(x3D_test, y3D_test)) #batch size load รอไว้ 64 ชุด"
   ]
  },
  {
   "cell_type": "code",
   "execution_count": 401,
   "metadata": {},
   "outputs": [
    {
     "name": "stdout",
     "output_type": "stream",
     "text": [
      "27/27 [==============================] - 0s 4ms/step\n",
      "[2 0 5 0 3 5 5 2 2 2 5 3 2 2 2 2 5 3 2 3 2 3 5 3 3 0 2 5 2 5 1 0 2 5 2 3 2\n",
      " 3 5 3 2 3 2 2 5 0 5 5 2 5 5 2 2 5 5 0 2 0 2 5 2 3 3 2 2 3 2 3 1 5 3 5 5 1\n",
      " 3 0 2 3 1 3 2 3 0 3 5 0 5 2 0 3 3 5 2 5 5 2 0 3 0 2 3 0 5 0 3 5 5 3 2 3 3\n",
      " 2 3 3 2 5 5 2 3 0 2 5 3 5 5 0 1 5 0 5 2 0 0 2 3 5 2 2 2 0 5 2 0 5 2 3 3 2\n",
      " 3 0 5 2 3 3 5 1 5 2 2 0 5 3 3 2 5 5 3 3 3 5 3 2 0 2 3 2 2 5 5 5 3 3 0 2 0\n",
      " 3 5 2 5 2 3 2 0 3 2 5 1 2 3 3 2 0 2 0 3 0 5 0 0 5 2 3 2 3 5 2 3 0 5 3 0 3\n",
      " 2 2 0 3 3 2 5 5 2 5 2 0 3 3 2 2 5 2 3 3 1 2 0 5 3 0 2 3 5 2 0 3 2 1 2 0 5\n",
      " 2 3 2 5 5 3 3 2 2 1 1 5 2 0 0 3 1 2 2 5 5 2 2 2 0 0 0 5 2 0 5 3 5 5 3 0 5\n",
      " 5 2 3 5 2 3 5 0 3 5 2 5 3 5 5 0 5 2 2 3 3 2 3 0 2 2 0 2 0 2 2 3 5 2 0 5 3\n",
      " 2 2 0 0 0 3 2 0 0 3 5 2 2 3 5 5 3 1 0 3 2 2 3 2 5 5 5 0 3 2 2 3 2 3 5 2 5\n",
      " 2 2 0 2 1 2 3 2 0 0 2 0 3 2 2 5 2 3 0 3 2 5 3 0 3 2 0 2 2 0 3 2 5 2 5 3 3\n",
      " 3 2 5 3 3 3 3 2 3 3 0 0 1 3 3 2 2 2 3 2 2 5 0 5 0 3 5 3 5 2 2 3 2 0 0 5 2\n",
      " 5 2 5 0 2 2 2 2 0 2 5 0 3 0 0 2 5 2 3 0 5 2 3 3 2 3 3 2 5 1 0 5 0 2 2 3 3\n",
      " 3 1 0 2 2 3 2 3 5 5 2 3 2 5 2 2 2 5 5 5 1 2 3 2 3 2 5 3 2 2 5 5 3 2 5 5 2\n",
      " 2 5 2 3 2 3 2 5 3 5 5 5 0 2 0 3 5 5 2 0 5 1 3 3 0 5 2 3 0 3 5 3 3 0 3 5 3\n",
      " 2 3 3 5 2 3 2 5 2 2 5 3 5 3 2 3 2 0 0 3 5 2 5 5 0 3 5 1 5 3 0 5 2 5 5 3 3\n",
      " 2 2 5 0 3 0 3 2 2 2 0 5 3 3 2 2 3 5 0 2 5 5 0 5 2 3 0 3 3 2 3 3 5 2 3 2 0\n",
      " 0 3 2 3 3 0 3 0 3 5 5 5 3 2 2 0 2 2 5 5 5 3 3 3 2 2 5 3 2 2 3 5 3 3 2 2 5\n",
      " 1 5 2 3 2 2 3 0 3 2 1 0 2 5 2 0 0 3 3 2 5 3 2 3 0 3 2 3 2 0 2 3 2 2 3 2 5\n",
      " 3 2 5 5 2 2 2 3 2 5 2 2 5 3 3 3 3 3 2 0 1 2 0 2 1 2 2 3 5 2 0 2 2 2 5 3 5\n",
      " 2 0 3 2 0 5 5 3 5 2 0 5 5 3 2 3 5 0 3 3 3 5 2 5 2 3 3 0 3 2 0 3 2 5 2 2 3\n",
      " 3 3 3 3 0 2 5 2 2 3 2 3 5 0 5 3 3 2 2 2 3 0 2 5 2 0 1 2 3 2 2 5 5 5 0 2 5\n",
      " 2 3 5 0 3 0 5 2 3 2 2 5 2 2 0 2 3 2 5 3 2 3 3 2 2 2 5 2 0 5 2]\n"
     ]
    },
    {
     "name": "stderr",
     "output_type": "stream",
     "text": [
      "2022-11-04 12:08:02.690992: I tensorflow/core/grappler/optimizers/custom_graph_optimizer_registry.cc:114] Plugin optimizer for device_type GPU is enabled.\n"
     ]
    }
   ],
   "source": [
    "# # ------- Test CNN -------------------------------\n",
    "CNN_pred = np.argmax(model.predict(x3D_test),axis=1)\n",
    "print(CNN_pred)"
   ]
  },
  {
   "cell_type": "markdown",
   "metadata": {},
   "source": [
    "#### 9.3.2 Performance of CNN Model"
   ]
  },
  {
   "cell_type": "code",
   "execution_count": 402,
   "metadata": {},
   "outputs": [
    {
     "name": "stdout",
     "output_type": "stream",
     "text": [
      "----- Confusion matrix of NN -----\n",
      "[[123   0   6   0   0]\n",
      " [  1  24  13   0   1]\n",
      " [  3   1 248  17  10]\n",
      " [  2   0   6 209   0]\n",
      " [  0   0   0   0 181]]\n",
      "----- Classification matrix of NN -----\n",
      "              precision    recall  f1-score   support\n",
      "\n",
      "         0.0       0.95      0.95      0.95       129\n",
      "         1.0       0.96      0.62      0.75        39\n",
      "         2.0       0.91      0.89      0.90       279\n",
      "         3.0       0.92      0.96      0.94       217\n",
      "         5.0       0.94      1.00      0.97       181\n",
      "\n",
      "    accuracy                           0.93       845\n",
      "   macro avg       0.94      0.88      0.90       845\n",
      "weighted avg       0.93      0.93      0.93       845\n",
      "\n"
     ]
    }
   ],
   "source": [
    "# ------------ View Confusion Matrix, Classification Report -------------------------------\n",
    "print('----- Confusion matrix of NN -----')\n",
    "print(confusion_matrix(y3D_test,CNN_pred))\n",
    "print('----- Classification matrix of NN -----')\n",
    "print(classification_report(y3D_test,CNN_pred))"
   ]
  },
  {
   "cell_type": "code",
   "execution_count": 403,
   "metadata": {},
   "outputs": [
    {
     "data": {
      "image/png": "[encoded data removed]",
      "text/plain": [
       "<Figure size 432x288 with 1 Axes>"
      ]
     },
     "metadata": {
      "needs_background": "light"
     },
     "output_type": "display_data"
    }
   ],
   "source": [
    "# ------ View Confusion Matrix, Classification Report --------------------------\n",
    "# --------------- View History Graph -------------------------------------------\n",
    "\n",
    "# View Accuracy Graph\n",
    "# summarize history for accuracy\n",
    "plt.plot(history.history['acc'], label='train')\n",
    "plt.plot(history.history['val_acc'], label='test')\n",
    "plt.legend()\n",
    "plt.show()"
   ]
  },
  {
   "cell_type": "code",
   "execution_count": 404,
   "metadata": {},
   "outputs": [
    {
     "data": {
      "image/png": "[encoded data removed]",
      "text/plain": [
       "<Figure size 432x288 with 1 Axes>"
      ]
     },
     "metadata": {
      "needs_background": "light"
     },
     "output_type": "display_data"
    }
   ],
   "source": [
    "# View Loss Graph\n",
    "# summarize history for loss\n",
    "plt.plot(history.history['loss'], label='train')\n",
    "plt.plot(history.history['val_loss'], label='test')\n",
    "plt.legend()\n",
    "plt.show()"
   ]
  },
  {
   "cell_type": "code",
   "execution_count": null,
   "metadata": {},
   "outputs": [],
   "source": []
  }
 ],
 "metadata": {
  "kernelspec": {
   "display_name": "Python 3.10.4 64-bit",
   "language": "python",
   "name": "python3"
  },
  "language_info": {
   "codemirror_mode": {
    "name": "ipython",
    "version": 3
   },
   "file_extension": ".py",
   "mimetype": "text/x-python",
   "name": "python",
   "nbconvert_exporter": "python",
   "pygments_lexer": "ipython3",
   "version": "3.10.4"
  },
  "orig_nbformat": 4,
  "vscode": {
   "interpreter": {
    "hash": "aee8b7b246df8f9039afb4144a1f6fd8d2ca17a180786b69acc140d282b71a49"
   }
  }
 },
 "nbformat": 4,
 "nbformat_minor": 2
}
